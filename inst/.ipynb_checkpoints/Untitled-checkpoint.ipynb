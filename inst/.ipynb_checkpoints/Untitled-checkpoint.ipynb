{
 "cells": [
  {
   "cell_type": "code",
   "execution_count": 1,
   "id": "e355c40f-e9af-413c-b3b9-0e70a672297b",
   "metadata": {},
   "outputs": [],
   "source": [
    "import sys\n",
    "import os\n",
    "from collections import defaultdict\n",
    "import pickle\n",
    "from binascii import hexlify, unhexlify\n",
    "from splicemutr import BytesIntEncoder"
   ]
  },
  {
   "cell_type": "code",
   "execution_count": null,
   "id": "0f8946fa-d2c6-48b0-95dc-45987040d076",
   "metadata": {},
   "outputs": [],
   "source": [
    "pickle_file=\"/media/theron/My_Passport/Valsamo/kmers/pep_dict_9.pickle\"\n",
    "with open(pickle_file,'rb') as handle:\n",
    "    pep_dict = pickle.load(handle)"
   ]
  },
  {
   "cell_type": "code",
   "execution_count": null,
   "id": "baacb5f4-92f8-4f36-b91c-91b5fb9e6a18",
   "metadata": {},
   "outputs": [],
   "source": []
  }
 ],
 "metadata": {
  "kernelspec": {
   "display_name": "Python 3 (ipykernel)",
   "language": "python",
   "name": "python3"
  },
  "language_info": {
   "codemirror_mode": {
    "name": "ipython",
    "version": 3
   },
   "file_extension": ".py",
   "mimetype": "text/x-python",
   "name": "python",
   "nbconvert_exporter": "python",
   "pygments_lexer": "ipython3",
   "version": "3.9.7"
  }
 },
 "nbformat": 4,
 "nbformat_minor": 5
}
