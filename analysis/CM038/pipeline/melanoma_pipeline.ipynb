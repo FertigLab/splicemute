{
 "cells": [
  {
   "cell_type": "markdown",
   "id": "c3a1012b-5507-444b-9db2-e7bd3825f284",
   "metadata": {},
   "source": [
    "# Melanoma Cohort Analysis Pipeline"
   ]
  },
  {
   "cell_type": "markdown",
   "id": "ebad6ef5-91a7-43a4-a40a-91d99db03d9c",
   "metadata": {},
   "source": [
    "This notebook documents the analysis pipeline for analyzing the Melanoma cohort analyzed in the SpliceMutr paper. All bash scripts are made specifically for analysis on our personal clusters, but they outline the general structure and usage of the base R and python scripts for running the SpliceMutr pipeline. Modification of the bash files is necessary to directly run each script yourself."
   ]
  },
  {
   "cell_type": "markdown",
   "id": "f8f55a72-357e-4b10-b25b-90fcabc30f72",
   "metadata": {},
   "source": [
    "# Aligning the Melanoma Cohort using STAR"
   ]
  },
  {
   "cell_type": "markdown",
   "id": "2425f581-97a5-408e-8a67-03168526a448",
   "metadata": {},
   "source": [
    "## STAR and samtools usage, bash"
   ]
  },
  {
   "cell_type": "code",
   "execution_count": 29,
   "id": "11e5093c-cc81-448b-ac6b-364ea0b2f882",
   "metadata": {},
   "outputs": [
    {
     "data": {
      "text/plain": [
       "'\\n\\n# job submission params\\n#!/bin/bash\\n#$ -N fastq2bams\\n#$ -S /bin/sh\\n#$ -l mem_free=25G,h_vmem=30G\\n#$ -o /fastq2bams/bam_fastq.o\\n#$ -e /fastq2bams/bam_fastq.e\\n#$ -M tpalme15@jhmi.edu\\n#$ -t 1-114 -tc 10\\n\\nmodule load conda\\nsource activate /users/tpalmer/miniconda3/envs/R-4.0.2\\n\\necho $(date)\\n\\n# parse variables\\nNUM=$SGE_TASK_ID # number of the line from input file that has filename you want to use as input to STAR\\nfastq1=`sed \"${NUM}q;d\" /dcs04/fertig/data/theron/share/filenames.txt` # the fastq1 files for the cohort\\nfastq2=\"${fastq1/1.clipped/2.clipped}\"\\nsamplename=${fastq1%\"_1.clipped.fastq.gz\"}\\nsamplename=${samplename##*/}\\noutprefix=\"/bams/${samplename}\"\\n\\nGENOME_DIR=/GRCh38_Ensembl99_sparseD3_sjdbOverhang99\\n\\n# align fastqs using STAR\\nSTAR --genomeDir $GENOME_DIR --readFilesIn ${fastq1} ${fastq2} --twopassMode Basic --outSAMstrandField intronMotif --outFileNamePrefix $outprefix --runThreadN 6 --readFilesCommand zcat --outSAMtype BAM Unsorted\\n\\n# convenience variable for sam file created by STAR aligner\\nsamfile=\"${outprefix}Aligned.out.sam\"\\n\\n# delete any reads where CIGAR and sequence length are inconsistent \\nfixedsam=`echo $samfile | sed s/sam/fixed.sam/`\\ncat $samfile | awk \\'{if (length($10)==length($11)) print $0}\\' > $fixedsam\\n\\n# convert sam file to bam file\\nsamtools view -S -b $fixedsam > ${outprefix}.bam\\n\\n# sort bam file\\n#samtools sort ${outprefix}.bam ${outprefix}.sorted\\n\\n# index bam file\\n#samtools index ${outprefix}.sorted.bam\\n\\n# rm sam/fixedsam/bam/ file now that sorted bam has been created from it\\nrm $samfile\\nrm $fixedsam\\n#rm ${outprefix}.bam\\n\\n'"
      ]
     },
     "execution_count": 29,
     "metadata": {},
     "output_type": "execute_result"
    }
   ],
   "source": [
    "\n",
    "\"\"\"\n",
    "\n",
    "# job submission params\n",
    "#!/bin/bash\n",
    "#$ -N fastq2bams\n",
    "#$ -S /bin/sh\n",
    "#$ -l mem_free=25G,h_vmem=30G\n",
    "#$ -o /fastq2bams/bam_fastq.o\n",
    "#$ -e /fastq2bams/bam_fastq.e\n",
    "#$ -M tpalme15@jhmi.edu\n",
    "#$ -t 1-114 -tc 10\n",
    "\n",
    "module load conda\n",
    "source activate /users/tpalmer/miniconda3/envs/R-4.0.2\n",
    "\n",
    "echo $(date)\n",
    "\n",
    "# parse variables\n",
    "NUM=$SGE_TASK_ID # number of the line from input file that has filename you want to use as input to STAR\n",
    "fastq1=`sed \"${NUM}q;d\" /dcs04/fertig/data/theron/share/filenames.txt` # the fastq1 files for the cohort\n",
    "fastq2=\"${fastq1/1.clipped/2.clipped}\"\n",
    "samplename=${fastq1%\"_1.clipped.fastq.gz\"}\n",
    "samplename=${samplename##*/}\n",
    "outprefix=\"/bams/${samplename}\"\n",
    "\n",
    "GENOME_DIR=/GRCh38_Ensembl99_sparseD3_sjdbOverhang99\n",
    "\n",
    "# align fastqs using STAR\n",
    "STAR --genomeDir $GENOME_DIR --readFilesIn ${fastq1} ${fastq2} --twopassMode Basic --outSAMstrandField intronMotif --outFileNamePrefix $outprefix --runThreadN 6 --readFilesCommand zcat --outSAMtype BAM Unsorted\n",
    "\n",
    "# convenience variable for sam file created by STAR aligner\n",
    "samfile=\"${outprefix}Aligned.out.sam\"\n",
    "\n",
    "# delete any reads where CIGAR and sequence length are inconsistent \n",
    "fixedsam=`echo $samfile | sed s/sam/fixed.sam/`\n",
    "cat $samfile | awk '{if (length($10)==length($11)) print $0}' > $fixedsam\n",
    "\n",
    "# convert sam file to bam file\n",
    "samtools view -S -b $fixedsam > ${outprefix}.bam\n",
    "\n",
    "# sort bam file\n",
    "#samtools sort ${outprefix}.bam ${outprefix}.sorted\n",
    "\n",
    "# index bam file\n",
    "#samtools index ${outprefix}.sorted.bam\n",
    "\n",
    "# rm sam/fixedsam/bam/ file now that sorted bam has been created from it\n",
    "rm $samfile\n",
    "rm $fixedsam\n",
    "#rm ${outprefix}.bam\n",
    "\n",
    "\"\"\""
   ]
  },
  {
   "cell_type": "markdown",
   "id": "d16fc7e0-42d8-49a3-81d5-6871b3d2f38c",
   "metadata": {},
   "source": [
    "# Generating the necessary files for analysis, R"
   ]
  },
  {
   "cell_type": "markdown",
   "id": "fd600426-67db-471b-b6de-b1ace93f1bfc",
   "metadata": {},
   "source": [
    "## Loading in and processing the manifest file, R "
   ]
  },
  {
   "cell_type": "code",
   "execution_count": 30,
   "id": "8d51da07-0f45-42bf-9306-4855754d695f",
   "metadata": {},
   "outputs": [
    {
     "data": {
      "text/plain": [
       "'\\n\\nmanifest <- read_excel(\"/Valsamo/manifest.xlsx\")\\nfiles_to_remove <- c(\"hg19MTERCC-ensembl75-genes-Q21777-Plate-1-E06_L65\",\\n\"hg19MTERCC-ensembl75-genes-Q21777-Plate-1-F12_L1.D707_508\",\\n\"hg19MTERCC-ensembl75-genes-Q23152+B4+H2+AG710464_L1.D705\")\\nmanifest <- manifest %>% dplyr::filter(!(Sample %in% files_to_remove))\\nmanifest$Sample <- str_replace_all(manifest$Sample,\"hg19MTERCC-ensembl75-genes-\",\"\")\\nfastq_files <- read.table(\"/Valsamo/fastq_files.txt\")\\nSJ_files <- read.table(\"/Valsamo/SJ_files.txt\")\\nSJ_files$sample_name <- vapply(SJ_files$V1,function(file){\\n  str_remove(file,\"SJ.out.tab\")\\n},character(1))\\nfastq_files$sample_name <- vapply(fastq_files$V1,function(file){\\n  str_remove(file,\"_1.clipped.fastq.gz\")\\n},character(1))\\nmanifest$AX_TRTGRP <- vapply(manifest$AX_TRTGRP,function(TRTGRP){\\n  if (str_detect(TRTGRP,\"IPI\")){\\n    return(\"NIV-IPI\")\\n  } else {\\n    return(TRTGRP)\\n  }\\n},character(1))\\n\\n'"
      ]
     },
     "execution_count": 30,
     "metadata": {},
     "output_type": "execute_result"
    }
   ],
   "source": [
    "\n",
    "\"\"\"\n",
    "\n",
    "manifest <- read_excel(\"/Valsamo/manifest.xlsx\")\n",
    "files_to_remove <- c(\"hg19MTERCC-ensembl75-genes-Q21777-Plate-1-E06_L65\",\n",
    "\"hg19MTERCC-ensembl75-genes-Q21777-Plate-1-F12_L1.D707_508\",\n",
    "\"hg19MTERCC-ensembl75-genes-Q23152+B4+H2+AG710464_L1.D705\")\n",
    "manifest <- manifest %>% dplyr::filter(!(Sample %in% files_to_remove))\n",
    "manifest$Sample <- str_replace_all(manifest$Sample,\"hg19MTERCC-ensembl75-genes-\",\"\")\n",
    "fastq_files <- read.table(\"/Valsamo/fastq_files.txt\")\n",
    "SJ_files <- read.table(\"/Valsamo/SJ_files.txt\")\n",
    "SJ_files$sample_name <- vapply(SJ_files$V1,function(file){\n",
    "  str_remove(file,\"SJ.out.tab\")\n",
    "},character(1))\n",
    "fastq_files$sample_name <- vapply(fastq_files$V1,function(file){\n",
    "  str_remove(file,\"_1.clipped.fastq.gz\")\n",
    "},character(1))\n",
    "manifest$AX_TRTGRP <- vapply(manifest$AX_TRTGRP,function(TRTGRP){\n",
    "  if (str_detect(TRTGRP,\"IPI\")){\n",
    "    return(\"NIV-IPI\")\n",
    "  } else {\n",
    "    return(TRTGRP)\n",
    "  }\n",
    "},character(1))\n",
    "\n",
    "\"\"\""
   ]
  },
  {
   "cell_type": "markdown",
   "id": "29c396a9-a799-4c4c-9590-c451df4324db",
   "metadata": {},
   "source": [
    "## Forming PRE-treatment and POST-treatment groups, R"
   ]
  },
  {
   "cell_type": "code",
   "execution_count": 31,
   "id": "b01a8a09-4232-4aca-8eb7-aa428b863ae6",
   "metadata": {},
   "outputs": [
    {
     "data": {
      "text/plain": [
       "'\\n\\nPRE_samples_ipi_naive <- manifest[manifest$AX_TIMETEMP==\"PRE\" & manifest$AX_BOR3!=\"NE\",]\\nPOST_samples <- manifest[manifest$AX_TIMETEMP==\"POST\",]\\nPRE_samples <- manifest[manifest$AX_TIMETEMP==\"PRE\",]\\n\\ngroups_and_junc_dir <- mod_path(\"/mnt/f/Valsamo/leafcutter_prep/run_20230320\")\\nJHPCE_dir <- \"/dcs04/fertig/data/theron/share/juncs\"\\ncomparisons <- list()\\nstate <- \"PRE\"\\n\\n'"
      ]
     },
     "execution_count": 31,
     "metadata": {},
     "output_type": "execute_result"
    }
   ],
   "source": [
    "\n",
    "\"\"\"\n",
    "\n",
    "PRE_samples_ipi_naive <- manifest[manifest$AX_TIMETEMP==\"PRE\" & manifest$AX_BOR3!=\"NE\",]\n",
    "POST_samples <- manifest[manifest$AX_TIMETEMP==\"POST\",]\n",
    "PRE_samples <- manifest[manifest$AX_TIMETEMP==\"PRE\",]\n",
    "\n",
    "groups_and_junc_dir <- mod_path(\"/mnt/f/Valsamo/leafcutter_prep/run_20230320\")\n",
    "JHPCE_dir <- \"/dcs04/fertig/data/theron/share/juncs\"\n",
    "comparisons <- list()\n",
    "state <- \"PRE\"\n",
    "\n",
    "\"\"\"\n"
   ]
  },
  {
   "cell_type": "markdown",
   "id": "25be6913-adff-4382-ad5b-3d98b2772c1b",
   "metadata": {},
   "source": [
    "## Creating comparisons for LeafCutterMD analysis, R"
   ]
  },
  {
   "cell_type": "code",
   "execution_count": 32,
   "id": "916da869-6953-411b-ae82-0823c26dc660",
   "metadata": {},
   "outputs": [
    {
     "data": {
      "text/plain": [
       "'\\n\\ncomparison <- \"baseline_vs_post_treatment\"\\ntargets<-POST_samples$Sample\\ncomparators<-PRE_samples$Sample\\na<-list()\\na[[\"targets\"]] <- targets\\na[[\"comparators\"]] <- comparators\\n\\nfor (target in targets){\\n  target_junc_file <- sprintf(\"%s/%s_baseline_POST_treatment_juncs.txt\",groups_and_junc_dir,target)\\n  file_contents <- sprintf(\"%s.filt.junc\",c(target,comparators))\\n  file_contents <- data.frame(file_contents)\\n  write.table(file_contents,target_junc_file,\\n            sep=\"\\t\",\\n            quote=F,\\n            col.names=F,\\n            row.names=F)\\n}\\ncomparisons[[comparison]] <- a\\nsaveRDS(comparisons,file=sprintf(\"%s/comparisons.rds\",groups_and_junc_dir))\\n\\n'"
      ]
     },
     "execution_count": 32,
     "metadata": {},
     "output_type": "execute_result"
    }
   ],
   "source": [
    "\n",
    "\"\"\"\n",
    "\n",
    "comparison <- \"baseline_vs_post_treatment\"\n",
    "targets<-POST_samples$Sample\n",
    "comparators<-PRE_samples$Sample\n",
    "a<-list()\n",
    "a[[\"targets\"]] <- targets\n",
    "a[[\"comparators\"]] <- comparators\n",
    "\n",
    "for (target in targets){\n",
    "  target_junc_file <- sprintf(\"%s/%s_baseline_POST_treatment_juncs.txt\",groups_and_junc_dir,target)\n",
    "  file_contents <- sprintf(\"%s.filt.junc\",c(target,comparators))\n",
    "  file_contents <- data.frame(file_contents)\n",
    "  write.table(file_contents,target_junc_file,\n",
    "            sep=\"\\t\",\n",
    "            quote=F,\n",
    "            col.names=F,\n",
    "            row.names=F)\n",
    "}\n",
    "comparisons[[comparison]] <- a\n",
    "saveRDS(comparisons,file=sprintf(\"%s/comparisons.rds\",groups_and_junc_dir))\n",
    "\n",
    "\"\"\"\n"
   ]
  },
  {
   "cell_type": "markdown",
   "id": "3a42042c-f5ff-4a8a-b530-e9bce842f8ca",
   "metadata": {},
   "source": [
    "# Running LeafCutterMD outlier splice-junction usage analysis"
   ]
  },
  {
   "cell_type": "markdown",
   "id": "a63f9afc-97c3-4f59-bd1b-9937868798bb",
   "metadata": {},
   "source": [
    "## splicemutr_leafcutter_cluster_regtools.py and leafcutterMD.R usage"
   ]
  },
  {
   "cell_type": "code",
   "execution_count": 33,
   "id": "fe765a3c-1c98-4871-b1d3-5caac695732e",
   "metadata": {},
   "outputs": [
    {
     "data": {
      "text/plain": [
       "'\\n\\n# job submission params\\n\\n#!/bin/bash\\n#$ -N leafcutter\\n#$ -S /bin/sh\\n#$ -N leafcutter\\n#$ -l mem_free=20G,h_vmem=25G\\n#$ -o /runLeafcutter/leaf_run_12072021.o\\n#$ -e /runLeafcutter/leaf_run_12072021.e\\n#$ -M tpalme15@jhmi.edu\\n#$ -t 1-117 -tc 15\\n\\necho $(date)\\n\\nmodule load conda\\nsource activate /miniconda3/envs/R-4.0.2\\n\\nJUNC_DIR=/juncs\\nLEAF_SCRIPTS=/leafcutter/scripts\\nOUTLIER_FILES=/outlier_files.txt\\nJUNC_FILE=$(sed -n ${SGE_TASK_ID}p $OUTLIER_FILES)\\nJUNC_FILE=$(echo $JUNC_FILE)\\nSAMPLE=$(basename $JUNC_FILE | sed s/\\'.txt\\'/\\'\\'/g)\\n\\ncd $JUNC_DIR\\n\\necho \"leafcutter_cluster_regtools\"\\npython2 $LEAF_SCRIPTS/splicemutr_leafcutter_cluster_regtools.py -j $JUNC_FILE -o $SAMPLE -l 500000\\n\\necho \"leafcutter_ds\"\\n$LEAF_SCRIPTS/leafcutterMD.R --num_threads $NSLOTS -o $SAMPLE ${SAMPLE}_perind_numers.counts.gz\\n\\necho $(date)\\n\\n'"
      ]
     },
     "execution_count": 33,
     "metadata": {},
     "output_type": "execute_result"
    }
   ],
   "source": [
    "\n",
    "\"\"\"\n",
    "\n",
    "# job submission params\n",
    "\n",
    "#!/bin/bash\n",
    "#$ -N leafcutter\n",
    "#$ -S /bin/sh\n",
    "#$ -N leafcutter\n",
    "#$ -l mem_free=20G,h_vmem=25G\n",
    "#$ -o /runLeafcutter/leaf_run_12072021.o\n",
    "#$ -e /runLeafcutter/leaf_run_12072021.e\n",
    "#$ -M tpalme15@jhmi.edu\n",
    "#$ -t 1-117 -tc 15\n",
    "\n",
    "echo $(date)\n",
    "\n",
    "module load conda\n",
    "source activate /miniconda3/envs/R-4.0.2\n",
    "\n",
    "JUNC_DIR=/juncs\n",
    "LEAF_SCRIPTS=/leafcutter/scripts\n",
    "OUTLIER_FILES=/outlier_files.txt\n",
    "JUNC_FILE=$(sed -n ${SGE_TASK_ID}p $OUTLIER_FILES)\n",
    "JUNC_FILE=$(echo $JUNC_FILE)\n",
    "SAMPLE=$(basename $JUNC_FILE | sed s/'.txt'/''/g)\n",
    "\n",
    "cd $JUNC_DIR\n",
    "\n",
    "echo \"leafcutter_cluster_regtools\"\n",
    "python2 $LEAF_SCRIPTS/splicemutr_leafcutter_cluster_regtools.py -j $JUNC_FILE -o $SAMPLE -l 500000\n",
    "\n",
    "echo \"leafcutter_ds\"\n",
    "$LEAF_SCRIPTS/leafcutterMD.R --num_threads $NSLOTS -o $SAMPLE ${SAMPLE}_perind_numers.counts.gz\n",
    "\n",
    "echo $(date)\n",
    "\n",
    "\"\"\"\n"
   ]
  },
  {
   "cell_type": "markdown",
   "id": "b6237ea7-47a6-419e-a9fb-4cb7a89a87bc",
   "metadata": {},
   "source": [
    "# LeafCutterMD Postprocessing"
   ]
  },
  {
   "cell_type": "markdown",
   "id": "692cd262-a74d-45ed-ad7e-b740bbda6cb3",
   "metadata": {},
   "source": [
    "## Compiling comparison junctions ouput from LeafCutterMD, R"
   ]
  },
  {
   "cell_type": "code",
   "execution_count": 34,
   "id": "06458768-724c-4bea-b201-890c58dfa53f",
   "metadata": {},
   "outputs": [
    {
     "data": {
      "text/plain": [
       "'\\n\\ncomparison_junctions <- list()\\nleafcutter_files <- read.table(mod_path(\"/run_20230320/filenames.txt\"),sep=\"\\t\")\\nleafcutter_effect_sizes <- read.table(mod_path(\"/run_20230320/effect_sizes.txt\"),sep=\"\\t\")\\nfor (i in seq(nrow(leafcutter_files))){\\n  print(i)\\n  outlier_file <- leafcutter_files[i,]\\n  outlier_juncs <- read.table(outlier_file,check.names = F)\\n  outlier_junc_cols <- str_replace_all(colnames(outlier_juncs),\".filt\",\"\")\\n  colnames(outlier_juncs) <- outlier_junc_cols\\n  file_split <- strsplit(outlier_file,\"_juncs_\")[[1]]\\n  sample <- basename(file_split[1])\\n  sample <- substr(sample,1,nchar(sample))\\n  sample <- str_remove(sample,\"_baseline_POST_treatment\")\\n  eff_size_file <- sprintf(\"%s/%s_baseline_POST_treatment_juncs_effSize.txt\",dirname(outlier_file),sample)\\n  eff_size <- read.table(mod_path(eff_size_file),sep=\"\\t\",check.names = F)\\n  outlier_juncs_cols <- str_replace_all(colnames(eff_size),\".filt\",\"\")\\n  colnames(eff_size) <- outlier_juncs_cols\\n  diff_juncs <- rownames(eff_size)[abs(eff_size[,sample])>=0.6]\\n  sig_juncs <- rownames(outlier_juncs)[as.numeric(outlier_juncs[,sample]) <=0.05]\\n  comparison_junctions[[sample]] <- unique(c(comparison_junctions[[sample]],union(sig_juncs,diff_juncs)))\\n}\\n\\n'"
      ]
     },
     "execution_count": 34,
     "metadata": {},
     "output_type": "execute_result"
    }
   ],
   "source": [
    "\n",
    "\"\"\"\n",
    "\n",
    "comparison_junctions <- list()\n",
    "leafcutter_files <- read.table(mod_path(\"/run_20230320/filenames.txt\"),sep=\"\\t\")\n",
    "leafcutter_effect_sizes <- read.table(mod_path(\"/run_20230320/effect_sizes.txt\"),sep=\"\\t\")\n",
    "for (i in seq(nrow(leafcutter_files))){\n",
    "  print(i)\n",
    "  outlier_file <- leafcutter_files[i,]\n",
    "  outlier_juncs <- read.table(outlier_file,check.names = F)\n",
    "  outlier_junc_cols <- str_replace_all(colnames(outlier_juncs),\".filt\",\"\")\n",
    "  colnames(outlier_juncs) <- outlier_junc_cols\n",
    "  file_split <- strsplit(outlier_file,\"_juncs_\")[[1]]\n",
    "  sample <- basename(file_split[1])\n",
    "  sample <- substr(sample,1,nchar(sample))\n",
    "  sample <- str_remove(sample,\"_baseline_POST_treatment\")\n",
    "  eff_size_file <- sprintf(\"%s/%s_baseline_POST_treatment_juncs_effSize.txt\",dirname(outlier_file),sample)\n",
    "  eff_size <- read.table(mod_path(eff_size_file),sep=\"\\t\",check.names = F)\n",
    "  outlier_juncs_cols <- str_replace_all(colnames(eff_size),\".filt\",\"\")\n",
    "  colnames(eff_size) <- outlier_juncs_cols\n",
    "  diff_juncs <- rownames(eff_size)[abs(eff_size[,sample])>=0.6]\n",
    "  sig_juncs <- rownames(outlier_juncs)[as.numeric(outlier_juncs[,sample]) <=0.05]\n",
    "  comparison_junctions[[sample]] <- unique(c(comparison_junctions[[sample]],union(sig_juncs,diff_juncs)))\n",
    "}\n",
    "\n",
    "\"\"\"\n"
   ]
  },
  {
   "cell_type": "code",
   "execution_count": 35,
   "id": "a38518de-da4a-4965-875f-b7b43f034a33",
   "metadata": {},
   "outputs": [],
   "source": [
    "## Splitting LeafCutterMD splice junctions for SpliceMutr transcript formation"
   ]
  },
  {
   "cell_type": "raw",
   "id": "d1e8c988-d3db-4a8a-a30b-ecec0e3d9b17",
   "metadata": {},
   "source": [
    "\n",
    "\"\"\"\n",
    "\n",
    "comparison_juncs_linear <- data.frame(t(vapply(unname(unlist(comparison_junctions)),function(junc){\n",
    "  junc_vals<-strsplit(junc,\":\")[[1]]\n",
    "  strand<-strsplit(junc_vals[4],\"_\")[[1]][3]\n",
    "  c(junc_vals[1],junc_vals[2],junc_vals[3],strand)\n",
    "},character(4))))\n",
    "rownames(comparison_juncs_linear)<-seq(nrow(comparison_juncs_linear))\n",
    "colnames(comparison_juncs_linear)<-c(\"chr\",\"start\",\"end\",\"strand\")\n",
    "comparison_juncs_linear<-unique(comparison_juncs_linear)\n",
    "\n",
    "\n",
    "iter<-1\n",
    "total_juncs <- nrow(comparison_juncs_linear)\n",
    "for (i in seq(1,total_juncs,5000)){\n",
    "  if (i+4999 >= total_juncs){\n",
    "    end = total_juncs\n",
    "  } else {\n",
    "    end = i+4999\n",
    "  }\n",
    "  comparison_juncs_small <- comparison_juncs_linear[seq(i,end),]\n",
    "  saveRDS(comparison_juncs_small,\n",
    "          sprintf(mod_path(\"/leafcutterMD/run_20230320/comparison_juncs_linear_%d.rds\"),iter))\n",
    "  iter<-iter+1\n",
    "}\n",
    "\n",
    "saveRDS(comparison_juncs_linear,file=mod_path(\"/leafcutterMD/run_20230320/comparison_juncs_linear.rds\"))\n",
    "saveRDS(comparison_junctions,file=mod_path(\"/run_20230320/comparison_juncs.rds\"))\n",
    "\n",
    "\"\"\"\n"
   ]
  },
  {
   "cell_type": "markdown",
   "id": "12e60df9-32b0-49a5-b283-2f1ca82058cb",
   "metadata": {},
   "source": [
    "# Forming transcripts using LeafCutterMD "
   ]
  },
  {
   "cell_type": "markdown",
   "id": "119d92c4-3a14-4380-a88e-542ef80b191d",
   "metadata": {},
   "source": [
    "## form_transcripts.R usage"
   ]
  },
  {
   "cell_type": "raw",
   "id": "ceadc643-8a99-4605-844c-7435849cf67e",
   "metadata": {},
   "source": [
    "\n",
    "\"\"\"\n",
    "\n",
    "# job submission params\n",
    "\n",
    "#!/bin/sh\n",
    "#$ -N form_trans\n",
    "#$ -S /bin/sh\n",
    "#$ -l mem_free=5G,h_vmem=10G\n",
    "#$ -o /form_transcripts/trans_form.o\n",
    "#$ -e /form_transcripts/trans_form.e\n",
    "#$ -M tpalme15@jhmi.edu\n",
    "#$ -t 1-14 -tc 14\n",
    "\n",
    "echo $(date)\n",
    "\n",
    "module load conda\n",
    "source activate /users/tpalmer/miniconda3/envs/R-4.0.2\n",
    "\n",
    "OUT=/run_20230320/formed_transcripts\n",
    "TXDB=/reference/GRCh38_Ensembl99_sparseD3_sjdbOverhang99/GRCh38_p13_txdb.sqlite\n",
    "INTRONS=/run_20230320/introns/intron_files.txt\n",
    "INTRON_FILE=$(sed -n ${SGE_TASK_ID}p $INTRONS)\n",
    "OUT_PREFIX=$OUT/$(echo $(basename $INTRON_FILE) | sed s/'.rds'/''/g)\n",
    "SCRIPT_DIR=/users/tpalmer/splicemute/scripts\n",
    "FUNCTS=/users/tpalmer/splicemute/R/functions.R\n",
    "\n",
    "$SCRIPT_DIR/form_transcripts.R -f $FUNCTS -o $OUT_PREFIX -t $TXDB -j $INTRON_FILE -b BSgenome.Hsapiens.GENCODE.GRCh38.p13\n",
    "\n",
    "echo $(date)\n",
    "\n",
    "\"\"\"\n"
   ]
  },
  {
   "cell_type": "markdown",
   "id": "c53e6277-6921-4ac1-b052-c8b815463996",
   "metadata": {},
   "source": [
    "# Calculating the coding potential of SpliceMutr-formed transcripts"
   ]
  },
  {
   "cell_type": "markdown",
   "id": "ce9e8e28-10a5-412b-8b48-7cfd24486cdd",
   "metadata": {},
   "source": [
    "## calc_coding_potential.R usage"
   ]
  },
  {
   "cell_type": "raw",
   "id": "48606540-2963-4d7e-92a2-aa60db7baa1f",
   "metadata": {},
   "source": [
    "\n",
    "\"\"\"\n",
    "\n",
    "# job submission params\n",
    "\n",
    "#!/bin/sh\n",
    "#$ -N combine_splicemutr\n",
    "#$ -S /bin/sh\n",
    "#$ -l mem_free=2G,h_vmem=2G\n",
    "#$ -o /calc_coding_potential/cod_pot_calc.o\n",
    "#$ -e /calc_coding_potential/cod_pot_calc.e\n",
    "#$ -M tpalme15@jhmi.edu\n",
    "#$ -m ea\n",
    "#$ -t 1-14 -tc 14\n",
    "\n",
    "echo $(date)\n",
    "\n",
    "module load conda\n",
    "source activate /users/tpalmer/miniconda3/envs/R-4.0.2\n",
    "\n",
    "OUT=/formed_transcripts\n",
    "SPLICE_FILES=/run_20230320/formed_transcripts/filenames.txt\n",
    "SPLICE_FILE=$(sed -n ${SGE_TASK_ID}p $SPLICE_FILES)\n",
    "TRANSCRIPT_FILE=$(echo $SPLICE_FILE | sed s/'_data_splicemutr.rds'/'_sequences.fa'/g)\n",
    "FUNCS=/users/tpalmer/splicemute/R/functions.R\n",
    "\n",
    "SCRIPT_DIR=/users/tpalmer/splicemute/scripts\n",
    "\n",
    "$SCRIPT_DIR/calc_coding_potential.R -o $OUT -s $SPLICE_FILE -t $TRANSCRIPT_FILE -f $FUNCS\n",
    "\n",
    "echo $(date)\n",
    "\n",
    "\"\"\"\n"
   ]
  },
  {
   "cell_type": "raw",
   "id": "2a567e0b-5103-4e0b-b422-8f275406c0e5",
   "metadata": {},
   "source": [
    "# Combining formed transcripts output from SpliceMutr"
   ]
  },
  {
   "cell_type": "markdown",
   "id": "0e030678-8e16-4cf7-a4a9-5f725faa69fe",
   "metadata": {},
   "source": [
    "## combine_splicemutr.R usage"
   ]
  },
  {
   "cell_type": "code",
   "execution_count": 36,
   "id": "75796c57-eebe-40be-882a-f095b883a69d",
   "metadata": {},
   "outputs": [
    {
     "data": {
      "text/plain": [
       "'\\n\\n# job submission params\\n\\n#!/bin/sh\\n#$ -N combine_splicemutr\\n#$ -S /bin/sh\\n#$ -l mem_free=5G,h_vmem=5G\\n#$ -o /combine_splicemutr/splice_comb.o\\n#$ -e /combine_splicemutr/splice_comb.e\\n#$ -M tpalme15@jhmi.edu\\n\\necho $(date)\\n\\nmodule load conda\\nsource activate /users/tpalmer/miniconda3/envs/R-4.0.2\\n\\nOUT=/run_20230320/combine_splicemutr_out_cp\\nSPLICE_FILES=/run_20230320/formed_transcripts/filenames_cp.txt\\nSCRIPT_DIR=/splicemute/scripts\\n\\n$SCRIPT_DIR/combine_splicemutr.R -o $OUT -s $SPLICE_FILES\\n\\necho $(date)\\n\\n'"
      ]
     },
     "execution_count": 36,
     "metadata": {},
     "output_type": "execute_result"
    }
   ],
   "source": [
    "\n",
    "\"\"\"\n",
    "\n",
    "# job submission params\n",
    "\n",
    "#!/bin/sh\n",
    "#$ -N combine_splicemutr\n",
    "#$ -S /bin/sh\n",
    "#$ -l mem_free=5G,h_vmem=5G\n",
    "#$ -o /combine_splicemutr/splice_comb.o\n",
    "#$ -e /combine_splicemutr/splice_comb.e\n",
    "#$ -M tpalme15@jhmi.edu\n",
    "\n",
    "echo $(date)\n",
    "\n",
    "module load conda\n",
    "source activate /users/tpalmer/miniconda3/envs/R-4.0.2\n",
    "\n",
    "OUT=/run_20230320/combine_splicemutr_out_cp\n",
    "SPLICE_FILES=/run_20230320/formed_transcripts/filenames_cp.txt\n",
    "SCRIPT_DIR=/splicemute/scripts\n",
    "\n",
    "$SCRIPT_DIR/combine_splicemutr.R -o $OUT -s $SPLICE_FILES\n",
    "\n",
    "echo $(date)\n",
    "\n",
    "\"\"\"\n"
   ]
  },
  {
   "cell_type": "markdown",
   "id": "480d3b41-f100-4abe-92b6-14662239b3f6",
   "metadata": {},
   "source": [
    "# Processing peptides output from the combined SpliceMutr output"
   ]
  },
  {
   "cell_type": "markdown",
   "id": "5de6e541-3241-440a-93c8-4290333587a2",
   "metadata": {},
   "source": [
    "## process_peptides.R usage"
   ]
  },
  {
   "cell_type": "code",
   "execution_count": 37,
   "id": "333cb6e3-41fb-4ef0-a648-019fac27adfd",
   "metadata": {},
   "outputs": [
    {
     "data": {
      "text/plain": [
       "'\\n\\n# job submission params\\n\\n#!/bin/sh\\n#$ -N process_peptides\\n#$ -S /bin/sh\\n#$ -l mem_free=5G,h_vmem=5G\\n#$ -o /process_peptides/peps_proc.o\\n#$ -e /process_peptides/peps_proc.e\\n#$ -M tpalme15@jhmi.edu\\n#$ -m ea\\n\\nmodule load conda\\nsource activate /users/tpalmer/miniconda3/envs/R-4.0.2\\n\\nSCRIPT_DIR=/splicemute/inst\\nPEPTIDES=/run_20230320/combine_splicemutr_out_cp/proteins.txt\\nOUT_DIR=/run_20230320/process_peptides_out\\nKMER_LENGTH=9\\n\\n$SCRIPT_DIR/process_peptides.py -p $PEPTIDES -o $OUT_DIR -k $KMER_LENGTH\\n\\n'"
      ]
     },
     "execution_count": 37,
     "metadata": {},
     "output_type": "execute_result"
    }
   ],
   "source": [
    "\n",
    "\"\"\"\n",
    "\n",
    "# job submission params\n",
    "\n",
    "#!/bin/sh\n",
    "#$ -N process_peptides\n",
    "#$ -S /bin/sh\n",
    "#$ -l mem_free=5G,h_vmem=5G\n",
    "#$ -o /process_peptides/peps_proc.o\n",
    "#$ -e /process_peptides/peps_proc.e\n",
    "#$ -M tpalme15@jhmi.edu\n",
    "#$ -m ea\n",
    "\n",
    "module load conda\n",
    "source activate /users/tpalmer/miniconda3/envs/R-4.0.2\n",
    "\n",
    "SCRIPT_DIR=/splicemute/inst\n",
    "PEPTIDES=/run_20230320/combine_splicemutr_out_cp/proteins.txt\n",
    "OUT_DIR=/run_20230320/process_peptides_out\n",
    "KMER_LENGTH=9\n",
    "\n",
    "$SCRIPT_DIR/process_peptides.py -p $PEPTIDES -o $OUT_DIR -k $KMER_LENGTH\n",
    "\n",
    "\"\"\"\n"
   ]
  },
  {
   "cell_type": "markdown",
   "id": "44345271-c520-4bda-84d3-16ec8c9c1690",
   "metadata": {},
   "source": [
    "# Performing HLA genotyping on the melanoma cohort"
   ]
  },
  {
   "cell_type": "markdown",
   "id": "9ca4f0fb-4cb5-4e6c-a442-7cddc3917688",
   "metadata": {},
   "source": [
    "## extract.py and genotype.py usage"
   ]
  },
  {
   "cell_type": "code",
   "execution_count": 38,
   "id": "c20c8c03-f843-4646-84c6-b581da855fa4",
   "metadata": {},
   "outputs": [
    {
     "data": {
      "text/plain": [
       "'\\n\\n# job submission params\\n\\n#!/bin/sh\\n#$ -N arcashla_geno\\n#$ -S /bin/sh\\n#$ -l mem_free=10G,h_vmem=15G\\n#$ -o /arcashla/arcas_geno.o\\n#$ -e /arcashla/arcas_geno.e\\n#$ -M tpalme15@jhmi.edu\\n#$ -m e\\n# -t 1-117 -tc 30\\n\\necho $(date)\\n\\nmodule load conda\\nsource activate /users/tpalmer/miniconda3/envs/arcashla\\n\\nGENOTYPES_DIR=/genotypes\\nFILENAMES_FILE=/bamfiles.txt # all bamfiles for cohort listed in file\\nFILE=$(sed -n ${SGE_TASK_ID}p $FILENAMES_FILE)\\nFILE_BASE=$(basename $FILE)\\nFILE_DIR=$GENOTYPES_DIR/${FILE_BASE}_dir\\nmkdir $FILE_DIR\\n\\nARCAS_SCRIPTS=/users/tpalmer/arcasHLA/scripts\\n\\n# sort bam file\\nsamtools sort -o ${FILE}.sorted $FILE\\n\\npython $ARCAS_SCRIPTS/extract.py ${FILE} -o $FILE_DIR -v\\n\\ncd $FILE_DIR\\n#python $ARCAS_SCRIPTS/reference.py --update\\n\\nFASTQ1=$(ls *.extracted.1*)\\nFASTQ2=$(ls *.extracted.2*)\\npython $ARCAS_SCRIPTS/genotype.py $FASTQ1 $FASTQ2 -g A,B,C,DPA1,DPB1,DQA1,DQB1,DRA,DRB1 -o $FILE_DIR -v\\n\\n'"
      ]
     },
     "execution_count": 38,
     "metadata": {},
     "output_type": "execute_result"
    }
   ],
   "source": [
    "\n",
    "\"\"\"\n",
    "\n",
    "# job submission params\n",
    "\n",
    "#!/bin/sh\n",
    "#$ -N arcashla_geno\n",
    "#$ -S /bin/sh\n",
    "#$ -l mem_free=10G,h_vmem=15G\n",
    "#$ -o /arcashla/arcas_geno.o\n",
    "#$ -e /arcashla/arcas_geno.e\n",
    "#$ -M tpalme15@jhmi.edu\n",
    "#$ -m e\n",
    "# -t 1-117 -tc 30\n",
    "\n",
    "echo $(date)\n",
    "\n",
    "module load conda\n",
    "source activate /users/tpalmer/miniconda3/envs/arcashla\n",
    "\n",
    "GENOTYPES_DIR=/genotypes\n",
    "FILENAMES_FILE=/bamfiles.txt # all bamfiles for cohort listed in file\n",
    "FILE=$(sed -n ${SGE_TASK_ID}p $FILENAMES_FILE)\n",
    "FILE_BASE=$(basename $FILE)\n",
    "FILE_DIR=$GENOTYPES_DIR/${FILE_BASE}_dir\n",
    "mkdir $FILE_DIR\n",
    "\n",
    "ARCAS_SCRIPTS=/users/tpalmer/arcasHLA/scripts\n",
    "\n",
    "# sort bam file\n",
    "samtools sort -o ${FILE}.sorted $FILE\n",
    "\n",
    "python $ARCAS_SCRIPTS/extract.py ${FILE} -o $FILE_DIR -v\n",
    "\n",
    "cd $FILE_DIR\n",
    "#python $ARCAS_SCRIPTS/reference.py --update\n",
    "\n",
    "FASTQ1=$(ls *.extracted.1*)\n",
    "FASTQ2=$(ls *.extracted.2*)\n",
    "python $ARCAS_SCRIPTS/genotype.py $FASTQ1 $FASTQ2 -g A,B,C,DPA1,DPB1,DQA1,DQB1,DRA,DRB1 -o $FILE_DIR -v\n",
    "\n",
    "\"\"\"\n"
   ]
  },
  {
   "cell_type": "markdown",
   "id": "7cdcf003-3d4e-4318-9442-2b522043aa8a",
   "metadata": {},
   "source": [
    "JSON file genotypes output from the above section are compiled into a class_1_alleles file containing the unique set of HLA class 1 alleles, 1 per line, and a genotypes file of R type .rds that contains a list with sample as names and the HLA genotype as a character vector per list element."
   ]
  },
  {
   "cell_type": "markdown",
   "id": "d21a9ea4-7b49-44bb-b48a-e1f9d656c9f8",
   "metadata": {},
   "source": [
    "# Running MHCnuggets on the processed peptides"
   ]
  },
  {
   "cell_type": "markdown",
   "id": "a9eae51f-84ac-4562-b297-2fdf6036ed39",
   "metadata": {},
   "source": [
    "## runMHCnuggets_ind.py usage"
   ]
  },
  {
   "cell_type": "code",
   "execution_count": 39,
   "id": "d7f5bed0-ce7c-431d-9a5f-d68e50c8863e",
   "metadata": {},
   "outputs": [
    {
     "data": {
      "text/plain": [
       "'\\n\\n# job submission params\\n\\n#!/bin/sh\\n#$ -N mhcnuggets\\n#$ -S /bin/sh\\n#$ -l mem_free=10G,h_vmem=15G\\n#$ -o /running_mhcnuggets/mhc_run.o\\n#$ -e /running_mhcnuggets/mhc_run.e\\n#$ -M tpalme15@jhmi.edu\\n#$ -m ea\\n#$ -t 1-82 -tc 82\\n\\necho $(date)\\n\\nmodule load conda\\nsource activate /users/tpalmer/miniconda3/envs/R-4.0.2\\n\\nTYPE=\"I\"\\nINPUT_KMERS=/process_peptides_out/peps_9.txt\\nMHC_ALLELE_FILE=/running_mhcnuggets/class_1_alleles.txt\\nALLELE=$(sed -n ${SGE_TASK_ID}p $MHC_ALLELE_FILE)\\nOUT_DIR=/running_mhcnuggets/mhcnuggets_out\\nSCRIPT_DIR=/users/tpalmer/splicemute/inst\\n\\n$SCRIPT_DIR/runMHCnuggets_ind.py -t $TYPE -k $INPUT_KMERS -m $ALLELE -o $OUT_DIR\\n\\necho $(date)\\n\\n'"
      ]
     },
     "execution_count": 39,
     "metadata": {},
     "output_type": "execute_result"
    }
   ],
   "source": [
    "\n",
    "\"\"\"\n",
    "\n",
    "# job submission params\n",
    "\n",
    "#!/bin/sh\n",
    "#$ -N mhcnuggets\n",
    "#$ -S /bin/sh\n",
    "#$ -l mem_free=10G,h_vmem=15G\n",
    "#$ -o /running_mhcnuggets/mhc_run.o\n",
    "#$ -e /running_mhcnuggets/mhc_run.e\n",
    "#$ -M tpalme15@jhmi.edu\n",
    "#$ -m ea\n",
    "#$ -t 1-82 -tc 82\n",
    "\n",
    "echo $(date)\n",
    "\n",
    "module load conda\n",
    "source activate /users/tpalmer/miniconda3/envs/R-4.0.2\n",
    "\n",
    "TYPE=\"I\"\n",
    "INPUT_KMERS=/process_peptides_out/peps_9.txt\n",
    "MHC_ALLELE_FILE=/running_mhcnuggets/class_1_alleles.txt\n",
    "ALLELE=$(sed -n ${SGE_TASK_ID}p $MHC_ALLELE_FILE)\n",
    "OUT_DIR=/running_mhcnuggets/mhcnuggets_out\n",
    "SCRIPT_DIR=/users/tpalmer/splicemute/inst\n",
    "\n",
    "$SCRIPT_DIR/runMHCnuggets_ind.py -t $TYPE -k $INPUT_KMERS -m $ALLELE -o $OUT_DIR\n",
    "\n",
    "echo $(date)\n",
    "\n",
    "\"\"\"\n"
   ]
  },
  {
   "cell_type": "markdown",
   "id": "24318ba2-5957-4bdf-9b90-bc334a7b3134",
   "metadata": {},
   "source": [
    "# Processing the binding affinity predictions output from MHCnuggets"
   ]
  },
  {
   "cell_type": "markdown",
   "id": "3c4276c6-4bd0-4b3c-ade2-f3eadf3d4de6",
   "metadata": {},
   "source": [
    "## process_bindaff.py usage"
   ]
  },
  {
   "cell_type": "code",
   "execution_count": 40,
   "id": "ef9ee61a-db9e-422d-a1f4-911c0fc7face",
   "metadata": {},
   "outputs": [
    {
     "data": {
      "text/plain": [
       "'\\n\\n# job submission params\\n\\n#!/bin/sh\\n#$ -N mhcnuggets\\n#$ -S /bin/sh\\n#$ -l mem_free=10G,h_vmem=15G\\n#$ -o /running_mhcnuggets/mhc_run.o\\n#$ -e /running_mhcnuggets/mhc_run.e\\n#$ -M tpalme15@jhmi.edu\\n#$ -m ea\\n#$ -t 1-82 -tc 82\\n\\necho $(date)\\n\\nmodule load conda\\nsource activate /users/tpalmer/miniconda3/envs/R-4.0.2\\n\\nTYPE=\"I\"\\nINPUT_KMERS=/process_peptides_out/peps_9.txt\\nMHC_ALLELE_FILE=/running_mhcnuggets/class_1_alleles.txt\\nALLELE=$(sed -n ${SGE_TASK_ID}p $MHC_ALLELE_FILE)\\n#ALLELE=$(sed -n 1p $MHC_ALLELE_FILE)\\nOUT_DIR=/running_mhcnuggets/mhcnuggets_out\\nSCRIPT_DIR=/splicemute/inst\\n\\n$SCRIPT_DIR/runMHCnuggets_ind.py -t $TYPE -k $INPUT_KMERS -m $ALLELE -o $OUT_DIR\\n\\necho $(date)\\n\\n'"
      ]
     },
     "execution_count": 40,
     "metadata": {},
     "output_type": "execute_result"
    }
   ],
   "source": [
    "\n",
    "\"\"\"\n",
    "\n",
    "# job submission params\n",
    "\n",
    "#!/bin/sh\n",
    "#$ -N mhcnuggets\n",
    "#$ -S /bin/sh\n",
    "#$ -l mem_free=10G,h_vmem=15G\n",
    "#$ -o /running_mhcnuggets/mhc_run.o\n",
    "#$ -e /running_mhcnuggets/mhc_run.e\n",
    "#$ -M tpalme15@jhmi.edu\n",
    "#$ -m ea\n",
    "#$ -t 1-82 -tc 82\n",
    "\n",
    "echo $(date)\n",
    "\n",
    "module load conda\n",
    "source activate /users/tpalmer/miniconda3/envs/R-4.0.2\n",
    "\n",
    "TYPE=\"I\"\n",
    "INPUT_KMERS=/process_peptides_out/peps_9.txt\n",
    "MHC_ALLELE_FILE=/running_mhcnuggets/class_1_alleles.txt\n",
    "ALLELE=$(sed -n ${SGE_TASK_ID}p $MHC_ALLELE_FILE)\n",
    "#ALLELE=$(sed -n 1p $MHC_ALLELE_FILE)\n",
    "OUT_DIR=/running_mhcnuggets/mhcnuggets_out\n",
    "SCRIPT_DIR=/splicemute/inst\n",
    "\n",
    "$SCRIPT_DIR/runMHCnuggets_ind.py -t $TYPE -k $INPUT_KMERS -m $ALLELE -o $OUT_DIR\n",
    "\n",
    "echo $(date)\n",
    "\n",
    "\"\"\"\n"
   ]
  },
  {
   "cell_type": "markdown",
   "id": "0bccd3b1-7fcf-4a4f-9db0-b837a12700e7",
   "metadata": {},
   "source": [
    "# Extracting binding data per HLA allele"
   ]
  },
  {
   "cell_type": "markdown",
   "id": "afc4ded5-d3a5-422c-914b-a5607e6853c6",
   "metadata": {},
   "source": [
    "## extract_data.py usage"
   ]
  },
  {
   "cell_type": "code",
   "execution_count": 41,
   "id": "23b65475-8617-4102-84b3-2fbeb0a4fd6a",
   "metadata": {},
   "outputs": [
    {
     "data": {
      "text/plain": [
       "'\\n\\n# job submission params\\n\\n#!/bin/sh\\n#$ -N extract_data\\n#$ -S /bin/sh\\n#$ -l mem_free=5G,h_vmem=10G\\n#$ -o /extract_data/data_extract.o\\n#$ -e /extract_data/data_extract.e\\n#$ -M tpalme15@jhmi.edu\\n#$ -m ea\\n#$ -t 1-82 -tc 82\\n\\necho $(date)\\n\\nmodule load conda\\nsource activate /users/tpalmer/miniconda3/envs/R-4.0.2\\n\\nALLELE_FILES=/running_mhcnuggets/class_1_alleles.txt\\nALLELE=$(sed -n ${SGE_TASK_ID}p $ALLELE_FILES)\\nPICKLE_DIR=/process_bindaff_out\\n\\nSCRIPT_DIR=/splicemute/inst\\n\\n$SCRIPT_DIR/extract_data.py -a $ALLELE -p $PICKLE_DIR -b 9 -e 10\\n\\necho $(date)\\n\\n'"
      ]
     },
     "execution_count": 41,
     "metadata": {},
     "output_type": "execute_result"
    }
   ],
   "source": [
    "\n",
    "\"\"\"\n",
    "\n",
    "# job submission params\n",
    "\n",
    "#!/bin/sh\n",
    "#$ -N extract_data\n",
    "#$ -S /bin/sh\n",
    "#$ -l mem_free=5G,h_vmem=10G\n",
    "#$ -o /extract_data/data_extract.o\n",
    "#$ -e /extract_data/data_extract.e\n",
    "#$ -M tpalme15@jhmi.edu\n",
    "#$ -m ea\n",
    "#$ -t 1-82 -tc 82\n",
    "\n",
    "echo $(date)\n",
    "\n",
    "module load conda\n",
    "source activate /users/tpalmer/miniconda3/envs/R-4.0.2\n",
    "\n",
    "ALLELE_FILES=/running_mhcnuggets/class_1_alleles.txt\n",
    "ALLELE=$(sed -n ${SGE_TASK_ID}p $ALLELE_FILES)\n",
    "PICKLE_DIR=/process_bindaff_out\n",
    "\n",
    "SCRIPT_DIR=/splicemute/inst\n",
    "\n",
    "$SCRIPT_DIR/extract_data.py -a $ALLELE -p $PICKLE_DIR -b 9 -e 10\n",
    "\n",
    "echo $(date)\n",
    "\n",
    "\"\"\"\n"
   ]
  },
  {
   "cell_type": "markdown",
   "id": "947c4512-6b2c-4a15-9eb0-65cd652aad06",
   "metadata": {},
   "source": [
    "# Generating SpliceMutr binding data based on genotype"
   ]
  },
  {
   "cell_type": "markdown",
   "id": "8ef3607f-23ea-4874-9914-8820b57a6e9d",
   "metadata": {},
   "source": [
    "## valsamo_analyze_splicemutr.R usage"
   ]
  },
  {
   "cell_type": "code",
   "execution_count": 42,
   "id": "cd4855b0-92b9-4d8c-8638-159c5cb5ceaf",
   "metadata": {},
   "outputs": [
    {
     "data": {
      "text/plain": [
       "'\\n\\n# job submission params\\n\\n#!/bin/sh\\n#$ -N analyze_splicemutr\\n#$ -S /bin/sh\\n#$ -l mem_free=3G,h_vmem=10G\\n#$ -o /analyze_splicemutr/splice_analyze.o\\n#$ -e /analyze_splicemutr/splice_analyze.e\\n#$ -M tpalme15@jhmi.edu\\n#$ -m ea\\n#$ -t 1-114 -tc 114\\n\\necho $(date)\\n\\nmodule load conda\\nsource activate /users/tpalmer/miniconda3/envs/R-4.0.2\\n\\nGENOTYPES=/analyze_splicemutr/genotypes.rds\\nSUMMARY_DIR=/process_bindaff/process_bindaff_out\\nSPLICE_DAT_FILE=/combine_splicemutr_out/data_splicemutr_all_pep.rds\\nCOUNTS_FILES=/inner_juncs/filenames.txt # .junc files\\nCOUNTS_FILE=$(sed -n ${SGE_TASK_ID}p $COUNTS_FILES)\\nOUT_DIR=/analyze_splicemutr_out\\nSCRIPT_DIR=/splicemute/scripts\\n\\n$SCRIPT_DIR/valsamo_analyze_splicemutr.R -g $GENOTYPES -s $SUMMARY_DIR -d $SPLICE_DAT_FILE -c $COUNTS_FILE -o $OUT_DIR\\n\\necho $(date)\\n\\n'"
      ]
     },
     "execution_count": 42,
     "metadata": {},
     "output_type": "execute_result"
    }
   ],
   "source": [
    "\n",
    "\"\"\"\n",
    "\n",
    "# job submission params\n",
    "\n",
    "#!/bin/sh\n",
    "#$ -N analyze_splicemutr\n",
    "#$ -S /bin/sh\n",
    "#$ -l mem_free=3G,h_vmem=10G\n",
    "#$ -o /analyze_splicemutr/splice_analyze.o\n",
    "#$ -e /analyze_splicemutr/splice_analyze.e\n",
    "#$ -M tpalme15@jhmi.edu\n",
    "#$ -m ea\n",
    "#$ -t 1-114 -tc 114\n",
    "\n",
    "echo $(date)\n",
    "\n",
    "module load conda\n",
    "source activate /users/tpalmer/miniconda3/envs/R-4.0.2\n",
    "\n",
    "GENOTYPES=/analyze_splicemutr/genotypes.rds\n",
    "SUMMARY_DIR=/process_bindaff/process_bindaff_out\n",
    "SPLICE_DAT_FILE=/combine_splicemutr_out/data_splicemutr_all_pep.rds\n",
    "COUNTS_FILES=/inner_juncs/filenames.txt # .junc files\n",
    "COUNTS_FILE=$(sed -n ${SGE_TASK_ID}p $COUNTS_FILES)\n",
    "OUT_DIR=/analyze_splicemutr_out\n",
    "SCRIPT_DIR=/splicemute/scripts\n",
    "\n",
    "$SCRIPT_DIR/valsamo_analyze_splicemutr.R -g $GENOTYPES -s $SUMMARY_DIR -d $SPLICE_DAT_FILE -c $COUNTS_FILE -o $OUT_DIR\n",
    "\n",
    "echo $(date)\n",
    "\n",
    "\"\"\"\n"
   ]
  },
  {
   "cell_type": "markdown",
   "id": "367ec2df-4324-46e0-866c-377b4b15eeb9",
   "metadata": {},
   "source": [
    "# Creating the splice junction expression object"
   ]
  },
  {
   "cell_type": "markdown",
   "id": "afa19d19-500d-4c6f-b0c4-0241cb71119c",
   "metadata": {},
   "source": [
    "## create_junc_expr.R usage"
   ]
  },
  {
   "cell_type": "code",
   "execution_count": 43,
   "id": "19b98034-ddf9-4ccb-8b7b-2234f1e3e583",
   "metadata": {},
   "outputs": [
    {
     "data": {
      "text/plain": [
       "'\\n\\n# job submission params\\n\\n#!/bin/sh\\n#$ -N create_junc_expression\\n#$ -S /bin/sh\\n#$ -l mem_free=20G,h_vmem=25G\\n#$ -o /create_junc_expression/expr_junc.o\\n#$ -e /create_junc_expression/expr_junc.e\\n#$ -M tpalme15@jhmi.edu\\n#$ -m ea \\n\\necho $(date)\\n\\nmodule load conda\\nsource activate /users/tpalmer/miniconda3/envs/R-4.0.2\\n\\nSCRIPT_DIR=/splicemute/scripts\\nJUNC_DIR=juncs/inner_juncs\\nJUNC_FILES=/juncs/inner_juncs/filenames.txt # ls of the junc files and their directories\\nOUT_DIR=/create_junc_expression_out\\n\\n$SCRIPT_DIR/create_junc_expr.R -j $JUNC_DIR -f $JUNC_FILES -o $OUT_DIR\\n\\necho $(date)\\n\\n'"
      ]
     },
     "execution_count": 43,
     "metadata": {},
     "output_type": "execute_result"
    }
   ],
   "source": [
    "\n",
    "\"\"\"\n",
    "\n",
    "# job submission params\n",
    "\n",
    "#!/bin/sh\n",
    "#$ -N create_junc_expression\n",
    "#$ -S /bin/sh\n",
    "#$ -l mem_free=20G,h_vmem=25G\n",
    "#$ -o /create_junc_expression/expr_junc.o\n",
    "#$ -e /create_junc_expression/expr_junc.e\n",
    "#$ -M tpalme15@jhmi.edu\n",
    "#$ -m ea \n",
    "\n",
    "echo $(date)\n",
    "\n",
    "module load conda\n",
    "source activate /users/tpalmer/miniconda3/envs/R-4.0.2\n",
    "\n",
    "SCRIPT_DIR=/splicemute/scripts\n",
    "JUNC_DIR=juncs/inner_juncs\n",
    "JUNC_FILES=/juncs/inner_juncs/filenames.txt # ls of the junc files and their directories\n",
    "OUT_DIR=/create_junc_expression_out\n",
    "\n",
    "$SCRIPT_DIR/create_junc_expr.R -j $JUNC_DIR -f $JUNC_FILES -o $OUT_DIR\n",
    "\n",
    "echo $(date)\n",
    "\n",
    "\"\"\"\n"
   ]
  },
  {
   "cell_type": "markdown",
   "id": "d768cfff-dbc0-42e8-b3cb-5a9e9c149c0d",
   "metadata": {},
   "source": [
    "# Generating gene expression data for the cohort"
   ]
  },
  {
   "cell_type": "markdown",
   "id": "74a05781-71bd-462b-86be-3b629bcc36f9",
   "metadata": {},
   "source": [
    "## featureCounts usage"
   ]
  },
  {
   "cell_type": "code",
   "execution_count": 44,
   "id": "2a0f6898-85b3-453b-808c-11410a01ed6b",
   "metadata": {},
   "outputs": [
    {
     "data": {
      "text/plain": [
       "'\\n\\n# job submission params\\n\\n#!/bin/bash\\n#$ -N featurecounts\\n#$ -S /bin/sh\\n#$ -l mem_free=1G,h_vmem=1G\\n#$ -o /users/tpalmer/valsamo/featurecounts/feature_run.o\\n#$ -e /users/tpalmer/valsamo/featurecounts/feature_run.e\\n#$ -M tpalme15@jhmi.edu\\n#$ -m ea\\n#$ -pe local 20\\n#$ -R y\\n#$ -t 1-117 -tc 1\\n\\nmodule load featurecounts/2.0.0\\n\\necho $(date)\\n\\n# parse variables\\nNUM=$SGE_TASK_ID # number of the line from input file that has filename you want to use as input to STAR\\n#NUM=1\\nBAM_FILE=/dcs04/fertig/data/theron/share/bams/bamfiles.txt\\ncd /dcs04/fertig/data/theron/share/bams\\nBAM=$(sed -n ${SGE_TASK_ID}p $BAM_FILE)\\n\\nGTF_FILE=/users/tpalmer/valsamo/GRCh38_Ensembl99_sparseD3_sjdbOverhang99/Homo_sapiens.GRCh38.99.gtf\\nOUT=/users/tpalmer/valsamo/featurecounts_out/$(basename $BAM)_feature_counts.txt\\n\\nfeatureCounts -F GTF -a $GTF_FILE -O -s 0 -M -T 20 --largestOverlap --minOverlap 8 -p -C --donotsort -o $OUT $BAM\\n\\n'"
      ]
     },
     "execution_count": 44,
     "metadata": {},
     "output_type": "execute_result"
    }
   ],
   "source": [
    "\n",
    "\"\"\"\n",
    "\n",
    "# job submission params\n",
    "\n",
    "#!/bin/bash\n",
    "#$ -N featurecounts\n",
    "#$ -S /bin/sh\n",
    "#$ -l mem_free=1G,h_vmem=1G\n",
    "#$ -o /users/tpalmer/valsamo/featurecounts/feature_run.o\n",
    "#$ -e /users/tpalmer/valsamo/featurecounts/feature_run.e\n",
    "#$ -M tpalme15@jhmi.edu\n",
    "#$ -m ea\n",
    "#$ -pe local 20\n",
    "#$ -R y\n",
    "#$ -t 1-117 -tc 1\n",
    "\n",
    "module load featurecounts/2.0.0\n",
    "\n",
    "echo $(date)\n",
    "\n",
    "# parse variables\n",
    "NUM=$SGE_TASK_ID # number of the line from input file that has filename you want to use as input to STAR\n",
    "#NUM=1\n",
    "BAM_FILE=/dcs04/fertig/data/theron/share/bams/bamfiles.txt\n",
    "cd /dcs04/fertig/data/theron/share/bams\n",
    "BAM=$(sed -n ${SGE_TASK_ID}p $BAM_FILE)\n",
    "\n",
    "GTF_FILE=/users/tpalmer/valsamo/GRCh38_Ensembl99_sparseD3_sjdbOverhang99/Homo_sapiens.GRCh38.99.gtf\n",
    "OUT=/users/tpalmer/valsamo/featurecounts_out/$(basename $BAM)_feature_counts.txt\n",
    "\n",
    "featureCounts -F GTF -a $GTF_FILE -O -s 0 -M -T 20 --largestOverlap --minOverlap 8 -p -C --donotsort -o $OUT $BAM\n",
    "\n",
    "\"\"\"\n"
   ]
  },
  {
   "cell_type": "markdown",
   "id": "aa5c8a3c-dd55-40e4-924f-c26dbcdbbc2a",
   "metadata": {},
   "source": [
    "# Combining the featurecounts files"
   ]
  },
  {
   "cell_type": "markdown",
   "id": "8b57e709-2fe6-495c-b0c8-a076e8d8af66",
   "metadata": {},
   "source": [
    "## combine_featurecounts.R usage"
   ]
  },
  {
   "cell_type": "code",
   "execution_count": 45,
   "id": "745cba98-bcdd-49e3-90d1-48748342ca81",
   "metadata": {},
   "outputs": [
    {
     "data": {
      "text/plain": [
       "'\\n\\n# job submission params\\n\\n#!/bin/bash\\n#$ -N featurecounts\\n#$ -S /bin/sh\\n#$ -l mem_free=10G,h_vmem=15G\\n#$ -o /featurecounts/feature_comb.o\\n#$ -e /featurecounts/feature_comb.e\\n#$ -M tpalme15@jhmi.edu\\n#$ -m ea\\n\\nmodule load conda\\nsource activate /users/tpalmer/miniconda3/envs/R-4.0.2\\n\\necho $(date)\\n\\n# parse variables\\nFEATURECOUNTS_FILE=/featurecounts_out/filenames.txt # all of the featurecounts files for the cohort\\nSCRIPT_DIR=/splicemute/scripts\\n\\n$SCRIPT_DIR/combine_featurecounts.R -f $FEATURECOUNTS_FILE\\n\\n'"
      ]
     },
     "execution_count": 45,
     "metadata": {},
     "output_type": "execute_result"
    }
   ],
   "source": [
    "\n",
    "\"\"\"\n",
    "\n",
    "# job submission params\n",
    "\n",
    "#!/bin/bash\n",
    "#$ -N featurecounts\n",
    "#$ -S /bin/sh\n",
    "#$ -l mem_free=10G,h_vmem=15G\n",
    "#$ -o /featurecounts/feature_comb.o\n",
    "#$ -e /featurecounts/feature_comb.e\n",
    "#$ -M tpalme15@jhmi.edu\n",
    "#$ -m ea\n",
    "\n",
    "module load conda\n",
    "source activate /users/tpalmer/miniconda3/envs/R-4.0.2\n",
    "\n",
    "echo $(date)\n",
    "\n",
    "# parse variables\n",
    "FEATURECOUNTS_FILE=/featurecounts_out/filenames.txt # all of the featurecounts files for the cohort\n",
    "SCRIPT_DIR=/splicemute/scripts\n",
    "\n",
    "$SCRIPT_DIR/combine_featurecounts.R -f $FEATURECOUNTS_FILE\n",
    "\n",
    "\"\"\"\n"
   ]
  },
  {
   "cell_type": "markdown",
   "id": "fd22b8c1-fc55-477d-9912-faef52d50f03",
   "metadata": {},
   "source": [
    "# Calculating the splicing antigenicity per sample"
   ]
  },
  {
   "cell_type": "markdown",
   "id": "0939fd50-6387-4dc8-a888-ab165eacbbee",
   "metadata": {},
   "source": [
    "## calc_gene_metric_len_norm.R usage"
   ]
  },
  {
   "cell_type": "code",
   "execution_count": 46,
   "id": "a380d3e9-0737-4deb-87fe-4b88894e4a2a",
   "metadata": {},
   "outputs": [
    {
     "data": {
      "text/plain": [
       "\"\\n\\n# job submission params\\n\\n#!/bin/sh\\n#$ -N calc_gene_metric\\n#$ -S /bin/sh\\n#$ -l mem_free=5G,h_vmem=10G\\n#$ -o /calc_gene_metric/gene_calc_len_norm.o\\n#$ -e /calc_gene_metric/gene_calc_len_norm.e\\n#$ -M tpalme15@jhmi.edu\\n#$ -m ea\\n#$ -t 1-22 -tc 22\\n\\necho $(date)\\n\\nmodule load conda\\nsource activate /users/tpalmer/miniconda3/envs/R-4.0.2\\n\\nSCRIPT_DIR=/users/tpalmer/splicemute/scripts\\nGENE_EXPRESSION=/create_gene_expression/featurecounts_all_vst.rds\\nSPLICE_DAT_FILES=/create_comparisons_out/filenames.txt\\nSPLICE_DAT_FILE=$(sed -n ${SGE_TASK_ID}p $SPLICE_DAT_FILES)\\nCOMPARISON=$(echo $(echo $(basename $SPLICE_DAT_FILE) | sed 's/splice_dat_//g') | sed 's/.rds//g')\\nKMER_COUNTS=/create_comparisons_out/kmers_specific_${COMPARISON}.rds\\nJUNC_EXPR_FILE=/create_junc_expression_out/junc_expr_combined_vst.rds\\nOUT_PREFIX=/calc_gene_metric_out/${COMPARISON}\\n\\n$SCRIPT_DIR/calc_gene_metric_len_norm.R -g $GENE_EXPRESSION -s $SPLICE_DAT_FILE -k $KMER_COUNTS -j $JUNC_EXPR_FILE -o $OUT_PREFIX\\n\\necho $(date)\\n\\n\""
      ]
     },
     "execution_count": 46,
     "metadata": {},
     "output_type": "execute_result"
    }
   ],
   "source": [
    "\n",
    "\"\"\"\n",
    "\n",
    "# job submission params\n",
    "\n",
    "#!/bin/sh\n",
    "#$ -N calc_gene_metric\n",
    "#$ -S /bin/sh\n",
    "#$ -l mem_free=5G,h_vmem=10G\n",
    "#$ -o /calc_gene_metric/gene_calc_len_norm.o\n",
    "#$ -e /calc_gene_metric/gene_calc_len_norm.e\n",
    "#$ -M tpalme15@jhmi.edu\n",
    "#$ -m ea\n",
    "#$ -t 1-22 -tc 22\n",
    "\n",
    "echo $(date)\n",
    "\n",
    "module load conda\n",
    "source activate /users/tpalmer/miniconda3/envs/R-4.0.2\n",
    "\n",
    "SCRIPT_DIR=/users/tpalmer/splicemute/scripts\n",
    "GENE_EXPRESSION=/create_gene_expression/featurecounts_all_vst.rds\n",
    "SPLICE_DAT_FILES=/create_comparisons_out/filenames.txt\n",
    "SPLICE_DAT_FILE=$(sed -n ${SGE_TASK_ID}p $SPLICE_DAT_FILES)\n",
    "COMPARISON=$(echo $(echo $(basename $SPLICE_DAT_FILE) | sed 's/splice_dat_//g') | sed 's/.rds//g')\n",
    "KMER_COUNTS=/create_comparisons_out/kmers_specific_${COMPARISON}.rds\n",
    "JUNC_EXPR_FILE=/create_junc_expression_out/junc_expr_combined_vst.rds\n",
    "OUT_PREFIX=/calc_gene_metric_out/${COMPARISON}\n",
    "\n",
    "$SCRIPT_DIR/calc_gene_metric_len_norm.R -g $GENE_EXPRESSION -s $SPLICE_DAT_FILE -k $KMER_COUNTS -j $JUNC_EXPR_FILE -o $OUT_PREFIX\n",
    "\n",
    "echo $(date)\n",
    "\n",
    "\"\"\"\n"
   ]
  }
 ],
 "metadata": {
  "kernelspec": {
   "display_name": "Python 3 (ipykernel)",
   "language": "python",
   "name": "python3"
  },
  "language_info": {
   "codemirror_mode": {
    "name": "ipython",
    "version": 3
   },
   "file_extension": ".py",
   "mimetype": "text/x-python",
   "name": "python",
   "nbconvert_exporter": "python",
   "pygments_lexer": "ipython3",
   "version": "3.11.3"
  }
 },
 "nbformat": 4,
 "nbformat_minor": 5
}
