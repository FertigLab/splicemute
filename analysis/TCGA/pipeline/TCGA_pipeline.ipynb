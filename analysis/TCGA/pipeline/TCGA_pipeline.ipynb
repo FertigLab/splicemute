{
 "cells": [
  {
   "cell_type": "markdown",
   "id": "dc36fe71-3099-4422-a66c-2326306b5b2a",
   "metadata": {},
   "source": [
    "# The TCGA SpliceMutr Analysis Pipeline"
   ]
  },
  {
   "cell_type": "markdown",
   "id": "967bd914-3371-4eaf-8fb8-7b65a714ee2e",
   "metadata": {},
   "source": [
    "This notebook documents the analysis pipeline for analyzing the TCGA data using SpliceMutr. All bash scripts are made specifically for analysis on our personal clusters, but they outline the general structure and usage of the base R and python scripts for running the pipeline. Modification of the bash files is necessary to directly run each script yourself. "
   ]
  },
  {
   "cell_type": "markdown",
   "id": "3d9bc8b3-6e1d-432a-8c5f-7897e54406d5",
   "metadata": {},
   "source": [
    "# Extracting the recount3 information for the TCGA data:"
   ]
  },
  {
   "cell_type": "markdown",
   "id": "ab17d64b-d4dd-42f6-b92f-01ca10ff31e4",
   "metadata": {},
   "source": [
    "## recount3_tcga_juncs_init.R usage"
   ]
  },
  {
   "cell_type": "code",
   "execution_count": null,
   "id": "85194b33-5d97-4dcd-8092-fe6bc4a56cd7",
   "metadata": {},
   "outputs": [],
   "source": [
    "\n",
    "\"\"\"\n",
    "\n",
    "# job submission params\n",
    "\n",
    "#!/bin/sh\n",
    "#$ -N recount3_init\n",
    "#$ -S /bin/sh\n",
    "#$ -l mem_free=30G,h_vmem=30G\n",
    "#$ -o /TCGA/recount3_juncs/juncs_init.o\n",
    "#$ -e /TCGA/recount3_juncs/juncs_init.e\n",
    "#$ -M tpalme15@jhmi.edu\n",
    "\n",
    "echo $(date)\n",
    "\n",
    "module load conda\n",
    "source activate /miniconda3/envs/R-4.0.2\n",
    "\n",
    "OUT=/TCGA_juncs\n",
    "SCRIPT_DIR=/splicemute/scripts\n",
    "\n",
    "$SCRIPT_DIR/recount3_tcga_juncs_init.R -o $OUT\n",
    "\n",
    "echo $(date)\n",
    "\n",
    "\"\"\"\n"
   ]
  },
  {
   "cell_type": "markdown",
   "id": "70463205-3978-4192-8b69-fe879eb68aac",
   "metadata": {},
   "source": [
    "# Forming the recount3 junctions into .junc files, forming the groups and the junc files per TCGA cancer subtype as well"
   ]
  },
  {
   "cell_type": "markdown",
   "id": "bc6137ee-3195-4123-a8d5-dd19d9ba2fa6",
   "metadata": {},
   "source": [
    "## recount3_tcga_juncs.R usage"
   ]
  },
  {
   "cell_type": "code",
   "execution_count": null,
   "id": "b521af26-3bbc-48c7-b7c2-6828a9931def",
   "metadata": {},
   "outputs": [],
   "source": [
    "\n",
    "\"\"\"\n",
    "\n",
    "# job submission params\n",
    "\n",
    "#!/bin/sh\n",
    "#$ -N recount3_form\n",
    "#$ -S /bin/sh\n",
    "#$ -l mem_free=30G,h_vmem=30G\n",
    "#$ -o /recount3_juncs/juncs_form.o\n",
    "#$ -e /TCGA/recount3_juncs/juncs_form.e\n",
    "#$ -M tpalme15@jhmi.edu\n",
    "\n",
    "echo $(date)\n",
    "\n",
    "module load conda\n",
    "source activate /miniconda3/envs/R-4.0.2\n",
    "\n",
    "OUT=/recount3_juncs/TCGA_juncs\n",
    "SCRIPT_DIR=/splicemute/scripts\n",
    "\n",
    "$SCRIPT_DIR/recount3_tcga_juncs.R -o $OUT\n",
    "\n",
    "echo $(date)\n",
    "\n",
    "\"\"\"\n"
   ]
  },
  {
   "cell_type": "markdown",
   "id": "08fadc4f-5fa2-4a25-b73a-77a337c0248b",
   "metadata": {},
   "source": [
    "# running LeafCutter for each TCGA cancer subtype"
   ]
  },
  {
   "cell_type": "markdown",
   "id": "ca7de2fc-90f4-4cef-af13-c4e519258b1e",
   "metadata": {},
   "source": [
    "## splicemutr_leafcutter_cluster_regtools.py, leafcutter_ds.R, and prepare_results.R usage"
   ]
  },
  {
   "cell_type": "code",
   "execution_count": null,
   "id": "f5182ff7-d291-493d-b778-6ecb914b3667",
   "metadata": {},
   "outputs": [],
   "source": [
    "\n",
    "\"\"\"\n",
    "\n",
    "# job submission params\n",
    "\n",
    "#!/bin/bash\n",
    "#$ -N leafcutter\n",
    "#$ -S /bin/sh\n",
    "#$ -l mem_free=25G,h_vmem=25G\n",
    "#$ -o /runLeafCutter/leaf_run.o\n",
    "#$ -e /runLeafCutter/leaf_run.e\n",
    "#$ -M tpalme15@jhmi.edu\n",
    "\n",
    "echo $(date)\n",
    "\n",
    "module load conda\n",
    "source activate /users/tpalmer/miniconda3/envs/R-4.0.2\n",
    "\n",
    "JUNC_DIR=/splice_junctions\n",
    "LEAF_SCRIPTS=/leafcutter/scripts\n",
    "REF_DIR=/leafcutter_annotations\n",
    "LEAFVIZ_DIR=/leafcutter/leafviz\n",
    "GROUPS_FILE=/groups_file.txt\n",
    "\n",
    "echo \"leafcutter_cluster_regtools\"\n",
    "python2 $LEAF_SCRIPTS/splicemutr_leafcutter_cluster_regtools.py -j $JUNC_DIR/junc_file.txt -r $JUNC_DIR -o data -l 500000\n",
    "\n",
    "echo \"leafcutter_ds\"\n",
    "LEAF_SCRIPTS/leafcutter_ds.R --num_threads 1 --exon_file=$REF_DIR/G026.exons.txt.gz -o $JUNC_DIR/leafcutter_ds $JUNC_DIR/data_perind_numers.counts.gz $GROUPS_FILE\n",
    "\n",
    "echo \"prepare_results\"\n",
    "$LEAFVIZ_DIR/prepare_results.R -o $JUNC_DIR/data.Rdata -m $GROUPS_FILE $JUNC_DIR/data_perind_numers.counts.gz $JUNC_DIR/leafcutter_ds_cluster_significance.txt $JUNC_DIR/leafcutter_ds_effect_sizes.txt $REF_DIR/G026\n",
    "\n",
    "echo $(date)\n",
    "\n",
    "\"\"\"\n"
   ]
  },
  {
   "cell_type": "markdown",
   "id": "c2ce73c1-ad75-4524-bac0-daaddbffa0b9",
   "metadata": {},
   "source": [
    "# Downloading the recount3 gene expression per TCGA sample"
   ]
  },
  {
   "cell_type": "markdown",
   "id": "a78e76ba-3d11-422e-9d20-7204dc705182",
   "metadata": {},
   "source": [
    "## recount3_extract_gene_expression.R usage"
   ]
  },
  {
   "cell_type": "code",
   "execution_count": null,
   "id": "173ba0c0-75c6-4f94-9b63-4c6c71650a2d",
   "metadata": {},
   "outputs": [],
   "source": [
    "\n",
    "\"\"\"\n",
    "\n",
    "# job submission params\n",
    "\n",
    "#!/bin/sh\n",
    "#$ -N recount3_expression\n",
    "#$ -S /bin/sh\n",
    "#$ -l mem_free=30G,h_vmem=30G\n",
    "#$ -o /recount3_juncs/gene_expression.o\n",
    "#$ -e /TCGA/recount3_juncs/gene_expression.e\n",
    "#$ -M tpalme15@jhmi.edu\n",
    "\n",
    "echo $(date)\n",
    "\n",
    "module load conda\n",
    "source activate /miniconda3/envs/R-4.0.2\n",
    "\n",
    "OUT=/recount3_juncs/TCGA_juncs\n",
    "CANCER_TYPE=\"PAAD\" # an example of a TCGA cancer type to input\n",
    "SCRIPT_DIR=/splicemute/scripts\n",
    "\n",
    "$SCRIPT_DIR/recount3_extract_gene_expression.R -o $OUT -c $CANCER_TYPE\n",
    "\n",
    "echo $(date)\n",
    "\n",
    "\"\"\"\n"
   ]
  },
  {
   "cell_type": "markdown",
   "id": "9de78edb-3ec2-40b4-ac82-fe25bc9718b0",
   "metadata": {},
   "source": [
    "# Forming the junction expression object"
   ]
  },
  {
   "cell_type": "markdown",
   "id": "bc454d5f-8694-4622-864f-764631f9ed87",
   "metadata": {},
   "source": [
    "## create_junc_expr_TCGA.R usage"
   ]
  },
  {
   "cell_type": "code",
   "execution_count": null,
   "id": "2182caa7-439c-407e-9aa5-01e6fbc54ed1",
   "metadata": {},
   "outputs": [],
   "source": [
    "\n",
    "\"\"\"\n",
    "\n",
    "# job submission params\n",
    "#!/bin/sh\n",
    "#$ -N create_junc_expr\n",
    "#$ -S /bin/sh\n",
    "#$ -l mem_free=30G,h_vmem=30G\n",
    "#$ -o /create_junc_expr/junc_expr.o\n",
    "#$ -e /create_junc_expr/junc_expr.e\n",
    "#$ -M tpalme15@jhmi.edu\n",
    "#$ -t 1-15 -tc 15\n",
    "\n",
    "echo $(date)\n",
    "\n",
    "module load conda\n",
    "source activate /users/tpalmer/miniconda3/envs/R-4.0.2\n",
    "\n",
    "TCGA_ROOT_DIR=/splicemutr_TCGA\n",
    "TCGA_CANCER_FILE=/splicemutr_TCGA/cancer_dirs.txt # a file containing the one TCGA cancer subtype per line\n",
    "TCGA_CANCER=$(sed -n ${SGE_TASK_ID}p $TCGA_CANCER_FILE)\n",
    "OUT_DIR=$TCGA_ROOT_DIR/$TCGA_CANCER/junction_counts\n",
    "\n",
    "if [[ ! -d $OUT_DIR ]]\n",
    "then\n",
    "        mkdir $OUT_DIR\n",
    "fi\n",
    "\n",
    "JUNC_RSE_FILE=$TCGA_ROOT_DIR/$TCGA_CANCER/junc_rse.rds\n",
    "SPLICE_DAT_FILE=$TCGA_ROOT_DIR/$TCGA_CANCER/combine_splicemutr_out/data_splicemutr_all_pep.rds # coimbined SpliceMutr output file for filtering junction expression by relevant splice junctions\n",
    "\n",
    "SCRIPT_DIR=/users/tpalmer/splicemute/scripts\n",
    "\n",
    "$SCRIPT_DIR/create_junc_expr_TCGA.R -j $JUNC_RSE_FILE -s $SPLICE_DAT_FILE -o $OUT_DIR\n",
    "\n",
    "echo $(date)\n",
    "\n",
    "\"\"\"\n"
   ]
  },
  {
   "cell_type": "markdown",
   "id": "99d133fb-299d-4b9d-832f-8ace24f97e41",
   "metadata": {},
   "source": [
    "# Saving the introns output from LeafCutter"
   ]
  },
  {
   "cell_type": "markdown",
   "id": "03986868-f91d-475e-9165-3fe05b8c2259",
   "metadata": {},
   "source": [
    "## save_introns.R usage"
   ]
  },
  {
   "cell_type": "code",
   "execution_count": null,
   "id": "958774ae-1868-408e-b196-36a86e0f536a",
   "metadata": {},
   "outputs": [],
   "source": [
    "\n",
    "\"\"\"\n",
    "\n",
    "# job submission params\n",
    "#!/bin/sh\n",
    "#$ -N create_junc_expr\n",
    "#$ -S /bin/sh\n",
    "#$ -l mem_free=10G,h_vmem=10G\n",
    "#$ -o /save_introns/introns_save.o\n",
    "#$ -e /save_introns/introns_save.e\n",
    "#$ -M tpalme15@jhmi.edu\n",
    "#$ -t 1-15 -tc 15\n",
    "\n",
    "echo $(date)\n",
    "\n",
    "module load conda\n",
    "source activate /users/tpalmer/miniconda3/envs/R-4.0.2\n",
    "\n",
    "TCGA_ROOT_DIR=/splicemutr_TCGA\n",
    "TCGA_CANCER_FILE=/splicemutr_TCGA/cancer_dirs.txt # a file containing the one TCGA cancer subtype per line\n",
    "TCGA_CANCER=$(sed -n ${SGE_TASK_ID}p $TCGA_CANCER_FILE)\n",
    "INTRON_FILE=$TCGA_ROOT_DIR/$TCGA_CANCER/data.Rdata\n",
    "OUT_DIR=$TCGA_ROOT_DIR/$TCGA_CANCER\n",
    "\n",
    "SCRIPT_DIR=/users/tpalmer/splicemute/scripts\n",
    "\n",
    "$SCRIPT_DIR/save_introns.R -i $INTRON_FILE -o $OUT_DIR\n",
    "\n",
    "echo $(date)\n",
    "\n",
    "\"\"\"\n"
   ]
  },
  {
   "cell_type": "markdown",
   "id": "80acf812-c527-4aa0-ae8e-7e77639e030e",
   "metadata": {},
   "source": [
    "# Splitting splice junctions per TCGA cancer subtype analyzed per "
   ]
  },
  {
   "cell_type": "markdown",
   "id": "7d119fc0-6127-4a82-8ff4-2798601f3307",
   "metadata": {},
   "source": [
    "## split_introns.R usage"
   ]
  },
  {
   "cell_type": "code",
   "execution_count": null,
   "id": "08f2fe92-7d8d-4f17-b8fb-749b1083c92c",
   "metadata": {},
   "outputs": [],
   "source": [
    "\n",
    "\"\"\"\n",
    "\n",
    "# job submission params\n",
    "#!/bin/sh\n",
    "#$ -N create_junc_expr\n",
    "#$ -S /bin/sh\n",
    "#$ -l mem_free=10G,h_vmem=10G\n",
    "#$ -o /save_introns/introns_split.o\n",
    "#$ -e /save_introns/introns_split.e\n",
    "#$ -M tpalme15@jhmi.edu\n",
    "#$ -t 1-15 -tc 15\n",
    "\n",
    "echo $(date)\n",
    "\n",
    "module load conda\n",
    "source activate /users/tpalmer/miniconda3/envs/R-4.0.2\n",
    "\n",
    "TCGA_ROOT_DIR=/splicemutr_TCGA\n",
    "TCGA_CANCER_FILE=/splicemutr_TCGA/cancer_dirs.txt # a file containing the one TCGA cancer subtype per line\n",
    "TCGA_CANCER=$(sed -n ${SGE_TASK_ID}p $TCGA_CANCER_FILE)\n",
    "INTRON_FILE=$TCGA_ROOT_DIR/$TCGA_CANCER/data.Rdata\n",
    "OUT_DIR=$TCGA_ROOT_DIR/$TCGA_CANCER\n",
    "SPLIT_NUM=5000\n",
    "\n",
    "SCRIPT_DIR=/users/tpalmer/splicemute/scripts\n",
    "\n",
    "$SCRIPT_DIR/split_introns.R -i $INTRON_FILE -o $OUT_DIR -s $SPLIT_NUM\n",
    "\n",
    "echo $(date)\n",
    "\n",
    "\"\"\"\n"
   ]
  },
  {
   "cell_type": "markdown",
   "id": "c181eccb-4c97-479b-8fe8-ad7b8c5e8ab2",
   "metadata": {},
   "source": [
    "# Forming the transcripts using SpliceMutr"
   ]
  },
  {
   "cell_type": "markdown",
   "id": "0b7db6c8-d536-42e7-a951-997c8a9aafc8",
   "metadata": {},
   "source": [
    "## form_transcripts.R usage"
   ]
  },
  {
   "cell_type": "code",
   "execution_count": null,
   "id": "d4d56ff6-1d13-49b3-a072-7c8c1955c5c1",
   "metadata": {},
   "outputs": [],
   "source": [
    "\n",
    "\"\"\"\n",
    "\n",
    "# job submission params\n",
    "#!/bin/sh\n",
    "#$ -N form_trans\n",
    "#$ -S /bin/sh\n",
    "#$ -l mem_free=5G,h_vmem=10G\n",
    "#$ -o /form_transcripts/trans_form.o\n",
    "#$ -e /form_transcripts/trans_form.e\n",
    "#$ -M tpalme15@jhmi.edu\n",
    "#$ -t 1-222 -tc 222\n",
    "\n",
    "echo $(date)\n",
    "\n",
    "module load conda\n",
    "source activate /users/tpalmer/miniconda3/envs/R-4.0.2\n",
    "\n",
    "INTRONS=/splicemutr_TCGA/intron_files.txt # this file is a conglomeration of all intron files for all TCGA cancer subtype\n",
    "INTRON_FILE=$(sed -n ${SGE_TASK_ID}p $INTRONS)\n",
    "TCGA_CANCER_DIR=$(dirname $(dirname $(sed -n ${SGE_TASK_ID}p $INTRONS)))\n",
    "OUT=$TCGA_CANCER_DIR/formed_transcripts\n",
    "TXDB=/reference/recount3/G026_txdb.sqlite\n",
    "OUT_PREFIX=$OUT/$(echo $(basename $INTRON_FILE) | sed s/'.rds'/''/g)\n",
    "SCRIPT_DIR=/splicemute/scripts\n",
    "\n",
    "$SCRIPT_DIR/form_transcripts.R -o $OUT_PREFIX -t $TXDB -j $INTRON_FILE -b BSgenome.Hsapiens.GENCODE.GRCh38.p10\n",
    "\n",
    "echo $(date)\n",
    "\n",
    "\"\"\"\n"
   ]
  },
  {
   "cell_type": "markdown",
   "id": "fe301e3b-1a70-4eac-a464-304d272b6188",
   "metadata": {},
   "source": [
    "# Calculating the coding potential for each SpliceMutr formed transcripts output file"
   ]
  },
  {
   "cell_type": "markdown",
   "id": "6dd09ac6-6bd4-4cde-9590-c83cb7f8de42",
   "metadata": {},
   "source": [
    "# calc_coding_potential.R usage"
   ]
  },
  {
   "cell_type": "code",
   "execution_count": null,
   "id": "9842d727-26fe-4870-8e87-631a06cb03ac",
   "metadata": {},
   "outputs": [],
   "source": [
    "\n",
    "\"\"\"\n",
    "\n",
    "# job submission params\n",
    "#!/bin/sh\n",
    "#$ -N calc_coding_potential\n",
    "#$ -S /bin/sh\n",
    "#$ -l mem_free=2G,h_vmem=2G\n",
    "#$ -o /calc_coding_potential/cod_pot_calc.o\n",
    "#$ -e /calc_coding_potential/cod_pot_calc.e\n",
    "#$ -M tpalme15@jhmi.edu\n",
    "#$ -m ea\n",
    "#$ -t 1-16 -tc 16\n",
    "\n",
    "echo $(date)\n",
    "\n",
    "module load conda\n",
    "source activate /users/tpalmer/miniconda3/envs/R-4.0.2\n",
    "\n",
    "TCGA_ROOT_DIR=/splicemutr_TCGA\n",
    "TCGA_CANCER_FILE=/splicemutr_TCGA/cancer_dirs.txt\n",
    "TCGA_CANCER=$(sed -n ${SGE_TASK_ID}p $TCGA_CANCER_FILE)\n",
    "\n",
    "OUT=$TCGA_ROOT_DIR/$TCGA_CANCER/formed_transcripts\n",
    "SPLICE_FILES=$OUT/filenames.txt\n",
    "\n",
    "START=1\n",
    "END=$(wc -l $SPLICE_FILES | awk '{print $1}')\n",
    "for (( VAL=$START; VAL<=$END; VAL++ ))\n",
    "do\n",
    "\n",
    "    SPLICE_FILE=$(sed -n ${VAL}p $SPLICE_FILES)\n",
    "    TRANSCRIPT_FILE=$(echo $SPLICE_FILE | sed s/'_data_splicemutr.rds'/'_sequences.fa'/g)\n",
    "    FUNCS=/users/tpalmer/splicemute/R/functions.R\n",
    "\n",
    "    SCRIPT_DIR=/users/tpalmer/splicemute/scripts\n",
    "\n",
    "    $SCRIPT_DIR/calc_coding_potential.R -o $OUT -s $SPLICE_FILE -t $TRANSCRIPT_FILE -f $FUNCS\n",
    "\n",
    "done\n",
    "\n",
    "echo $(date)\n",
    "\n",
    "\"\"\"\n"
   ]
  },
  {
   "cell_type": "markdown",
   "id": "70e81195-6445-46f4-a78f-42bd5c5ce16f",
   "metadata": {},
   "source": [
    "# Combining the formed transcripts output from SpliceMutr"
   ]
  },
  {
   "cell_type": "markdown",
   "id": "105abd99-e0ed-48e3-a49c-f8c8617402ed",
   "metadata": {},
   "source": [
    "## Combine_splicemutr.R usage"
   ]
  },
  {
   "cell_type": "code",
   "execution_count": null,
   "id": "88e52322-6d22-4513-b17b-bdd8536faff7",
   "metadata": {},
   "outputs": [],
   "source": [
    "\n",
    "\"\"\"\n",
    "\n",
    "# job submission params\n",
    "#!/bin/sh\n",
    "#$ -N combine_splicemutr\n",
    "#$ -S /bin/sh\n",
    "#$ -l mem_free=5G,h_vmem=10G\n",
    "#$ -o /combine_splicemutr/splice_comb_cp.o\n",
    "#$ -e /combine_splicemutr/splice_comb_cp.e\n",
    "#$ -M tpalme15@jhmi.edu\n",
    "#$ -t 1-16 -tc 16\n",
    "\n",
    "echo $(date)\n",
    "\n",
    "module load conda\n",
    "source activate /users/tpalmer/miniconda3/envs/R-4.0.2\n",
    "\n",
    "TCGA_ROOT_DIR=/splicemutr_TCGA\n",
    "TCGA_CANCER_FILE=/splicemutr_TCGA/cancer_dirs.txt\n",
    "TCGA_CANCER=$(sed -n ${SGE_TASK_ID}p $TCGA_CANCER_FILE)\n",
    "\n",
    "SPLICE_FILES=$TCGA_ROOT_DIR/$TCGA_CANCER/formed_transcripts/filenames_cp.txt\n",
    "OUT=$TCGA_ROOT_DIR/$TCGA_CANCER/combine_splicemutr_out_cp\n",
    "mkdir $OUT\n",
    "SCRIPT_DIR=/splicemute/scripts\n",
    "\n",
    "$SCRIPT_DIR/combine_splicemutr.R -o $OUT -s $SPLICE_FILES\n",
    "\n",
    "echo $(date)\n",
    "\n",
    "\"\"\"\n"
   ]
  },
  {
   "cell_type": "markdown",
   "id": "12f20a1c-3d03-4c81-91e3-c410f2b3aefd",
   "metadata": {},
   "source": [
    "# Processing the peptides associated with the SpliceMutr-formed data"
   ]
  },
  {
   "cell_type": "markdown",
   "id": "2aa84ce1-e5b1-473d-82aa-39490fb55fe9",
   "metadata": {},
   "source": [
    "## process_peptides.py usage"
   ]
  },
  {
   "cell_type": "code",
   "execution_count": null,
   "id": "ddb80b89-9725-45ac-9a91-084c7e3dae49",
   "metadata": {},
   "outputs": [],
   "source": [
    "\n",
    "\"\"\"\n",
    "\n",
    "# job submission params\n",
    "#!/bin/sh\n",
    "#$ -N process_peptides\n",
    "#$ -S /bin/sh\n",
    "#$ -l mem_free=5G,h_vmem=5G\n",
    "#$ -o /process_peptides/peps_proc.o\n",
    "#$ -e /process_peptides/peps_proc.e\n",
    "#$ -M tpalme15@jhmi.edu\n",
    "#$ -m ea\n",
    "#$ -t 1-15 -tc 15\n",
    "\n",
    "module load conda\n",
    "source activate /users/tpalmer/miniconda3/envs/R-4.0.2\n",
    "\n",
    "echo $(date)\n",
    "\n",
    "SCRIPT_DIR=/splicemute/inst\n",
    "TCGA_ROOT_DIR=/splicemutr_TCGA\n",
    "TCGA_CANCER_FILE=/splicemutr_TCGA/cancer_dirs.txt\n",
    "TCGA_CANCER=$(sed -n ${SGE_TASK_ID}p $TCGA_CANCER_FILE)\n",
    "PEPTIDES=$TCGA_ROOT_DIR/$TCGA_CANCER/combine_splicemutr_out/proteins.txt\n",
    "OUT_DIR=$TCGA_ROOT_DIR/$TCGA_CANCER/process_peptides_out\n",
    "mkdir $OUT_DIR\n",
    "KMER_LENGTH=9\n",
    "\n",
    "$SCRIPT_DIR/process_peptides.py -p $PEPTIDES -o $OUT_DIR -k $KMER_LENGTH \n",
    "\n",
    "echo $(date)\n",
    "\n",
    "\"\"\"\n"
   ]
  },
  {
   "cell_type": "markdown",
   "id": "dd7b61b0-b048-45ff-bf6c-8d46ec22f33e",
   "metadata": {},
   "source": [
    "# Calculating the ic50 score for each HLA allele and splice-junction-modified transcript"
   ]
  },
  {
   "cell_type": "markdown",
   "id": "9f6c7db4-af84-4203-81b4-3e3aa3588b97",
   "metadata": {},
   "source": [
    "## runMHCnuggets.py usage"
   ]
  },
  {
   "cell_type": "code",
   "execution_count": null,
   "id": "85b0908a-cb53-49a7-bdf8-7d0e75332400",
   "metadata": {},
   "outputs": [],
   "source": [
    "\n",
    "\"\"\"\n",
    "\n",
    "# job submission params\n",
    "\n",
    "#!/bin/sh\n",
    "#$ -N mhcnuggets\n",
    "#$ -S /bin/sh\n",
    "#$ -l mem_free=15G,h_vmem=15G\n",
    "#$ -o /running_mhcnuggets/mhc_run.o\n",
    "#$ -e /running_mhcnuggets/mhc_run.e\n",
    "#$ -M tpalme15@jhmi.edu\n",
    "#$ -m ea\n",
    "#$ -t 1-16 -tc 16\n",
    "\n",
    "echo $(date)\n",
    "\n",
    "module load conda\n",
    "source activate /users/tpalmer/miniconda3/envs/R-4.0.2\n",
    "\n",
    "TCGA_ROOT_DIR=/splicemutr_TCGA\n",
    "TCGA_CANCER_FILE=/splicemutr_TCGA/cancer_dirs.txt\n",
    "TCGA_CANCER=$(sed -n ${SGE_TASK_ID}p $TCGA_CANCER_FILE)\n",
    "\n",
    "TYPE=\"I\"\n",
    "INPUT_KMERS=$TCGA_ROOT_DIR/$TCGA_CANCER/process_peptides_out/peps_9.txt # an ouput from the previous step\n",
    "MHC_ALLELE_FILE=$TCGA_ROOT_DIR/$TCGA_CANCER/${TCGA_CANCER}_class1_alleles.txt # this is a file containing all unique class 1 HLA alleles extracted from The Immune Landscape of Cancer Optitype calls \n",
    "OUT_DIR=$TCGA_ROOT_DIR/$TCGA_CANCER/mhcnuggets_out\n",
    "mkdir $OUT_DIR\n",
    "SCRIPT_DIR=/users/tpalmer/splicemute/inst\n",
    "\n",
    "$SCRIPT_DIR/runMHCnuggets.py -t $TYPE -k $INPUT_KMERS -m $MHC_ALLELE_FILE -o $OUT_DIR\n",
    "\n",
    "echo $(date)\n",
    "\n",
    "\"\"\"\n"
   ]
  },
  {
   "cell_type": "markdown",
   "id": "82fdedd2-af3a-4816-91ef-0e11d2f3eeab",
   "metadata": {},
   "source": [
    "# Processing the binding affinity output from MHCnuggets"
   ]
  },
  {
   "cell_type": "markdown",
   "id": "36c9aa88-45de-482b-8475-8649cb97f2df",
   "metadata": {},
   "source": [
    "## process_bindaff.R usage"
   ]
  },
  {
   "cell_type": "code",
   "execution_count": null,
   "id": "c81a2ece-bca7-4b4d-8a0f-274876430d6a",
   "metadata": {},
   "outputs": [],
   "source": [
    "\n",
    "\"\"\"\n",
    "\n",
    "# job submission params\n",
    "\n",
    "#!/bin/sh\n",
    "#$ -N process_bindaff\n",
    "#$ -S /bin/sh\n",
    "#$ -l mem_free=5G,h_vmem=10G\n",
    "#$ -o /process_bindaff/bindaff_proc.o\n",
    "#$ -e /process_bindaff/bindaff_proc.e\n",
    "#$ -M tpalme15@jhmi.edu\n",
    "#$ -m ea\n",
    "#$ -t 1-1999 -tc 100\n",
    "\n",
    "echo $(date)\n",
    "\n",
    "module load conda\n",
    "source activate /users/tpalmer/miniconda3/envs/R-4.0.2\n",
    "\n",
    "ALLELE_FILES=/splicemutr_TCGA/allele_files.txt\n",
    "ALLELE=$(sed -n ${SGE_TASK_ID}p $ALLELE_FILES)\n",
    "CANCER_DIR=$(dirname $(dirname $ALLELE))\n",
    "OUT_DIR=$CANCER_DIR/process_bindaff_out\n",
    "if [[ ! -d $OUT_DIR ]]\n",
    "then\n",
    "    mkdir $OUT_DIR\n",
    "fi\n",
    "BINDERS=$OUT_DIR/$(echo $(basename $ALLELE) | sed 's/.txt/_filt.txt/g')\n",
    "awk -F \",\" '{ if ($2 <= 500) { print } }' $ALLELE > $BINDERS\n",
    "PICKLE_DIR=$CANCER_DIR/process_peptides_out\n",
    "KMER_LENGTH=9\n",
    "\n",
    "SCRIPT_DIR=/splicemute/inst\n",
    "\n",
    "$SCRIPT_DIR/process_bindaff.py -b $BINDERS -p $PICKLE_DIR -o $OUT_DIR -k $KMER_LENGTH\n",
    "\n",
    "echo $(date)\n",
    "\n",
    "\"\"\"\n"
   ]
  },
  {
   "cell_type": "markdown",
   "id": "34ed9119-de7a-4d8d-82bf-89c4ef1f84ee",
   "metadata": {},
   "source": [
    "# Extracting out SpliceMutr data"
   ]
  },
  {
   "cell_type": "markdown",
   "id": "cb33db13-9e71-406d-8be3-5ff108ba32bd",
   "metadata": {},
   "source": [
    "## extract_data.py usage"
   ]
  },
  {
   "cell_type": "code",
   "execution_count": null,
   "id": "d6af9128-6701-4498-8205-210ded2da438",
   "metadata": {},
   "outputs": [],
   "source": [
    "\n",
    "\"\"\"\n",
    "\n",
    "# job submission params\n",
    "\n",
    "#!/bin/sh\n",
    "#$ -N extract_data\n",
    "#$ -S /bin/sh\n",
    "#$ -l mem_free=5G,h_vmem=10G\n",
    "#$ -o /extract_data/data_extract.o\n",
    "#$ -e /extract_data/data_extract.e\n",
    "#$ -M tpalme15@jhmi.edu\n",
    "#$ -m ea\n",
    "#$ -t 1-15 -tc 15\n",
    "\n",
    "echo $(date)\n",
    "\n",
    "module load conda\n",
    "source activate /users/tpalmer/miniconda3/envs/R-4.0.2\n",
    "\n",
    "TCGA_ROOT_DIR=/splicemutr_TCGA\n",
    "TCGA_CANCER_FILE=/splicemutr_TCGA/cancer_dirs.txt\n",
    "MHC_ALLELE_FILE=$TCGA_ROOT_DIR/$TCGA_CANCER/${TCGA_CANCER}_class1_alleles.txt # this is a file containing all unique class 1 HLA alleles extracted from The Immune Landscape of Cancer Optitype calls\n",
    "\n",
    "LINES_IN_FILE=$(wc -l $MHC_ALLELE_FILE | awk '{print $1}')\n",
    "START=1\n",
    "\n",
    "for (( VAL=$START; VAL<=$LINES_IN_FILE); VAL++ ))\n",
    "do\n",
    "    ALLELE=$(sed -n ${VAL}p $MHC_ALLELE_FILE)\n",
    "    PICKLE_DIR=/process_bindaff/process_bindaff_out\n",
    "\n",
    "    SCRIPT_DIR=/users/tpalmer/splicemute/inst\n",
    "\n",
    "    $SCRIPT_DIR/extract_data.py -a $ALLELE -p $PICKLE_DIR -b 9 -e 10\n",
    "done\n",
    "\n",
    "echo $(date)\n",
    "\n",
    "\"\"\"\n"
   ]
  },
  {
   "cell_type": "markdown",
   "id": "827224f5-801b-422f-a5d7-f925d8113cb2",
   "metadata": {},
   "source": [
    "# Analyzing the SpliceMutr data for TCGA"
   ]
  },
  {
   "cell_type": "markdown",
   "id": "fc1d986e-589f-4ba0-b44a-ac4fca7bf583",
   "metadata": {},
   "source": [
    "## analyze_splicemutr.py usage"
   ]
  },
  {
   "cell_type": "markdown",
   "id": "18b4ebc8-6f01-4907-8aa6-c7b4711e0695",
   "metadata": {},
   "source": [
    "The ${CANCER}_genotypes_specific.txt file is a tab-delimited file with the following columns: \n",
    "A1      A2      B1      B2      C1      C2      aliquot_id      type    external_id\n",
    "A1 corresponds to the first HLA-A allele for the sample, B1 corresponds to the first HLA-B allele for the sample, C1 corresponds to the first HLA-C allele for the sample, aliquot_id is to the TCGA barcode, type is whether the sample is a tumor or normal sample, and the external_id is the recount3-specific id for the TCGA sample. This is controlled data, will not be shared, and is generated from the Optitype calls for the TCGA data. "
   ]
  },
  {
   "cell_type": "code",
   "execution_count": null,
   "id": "204aba01-1fc0-4bf8-9c22-61a556da8a34",
   "metadata": {},
   "outputs": [],
   "source": [
    "\n",
    "\"\"\"\n",
    "\n",
    "# job submission params\n",
    "#!/bin/sh\n",
    "#$ -N BLCA_analyze_splicemutr\n",
    "#$ -S /bin/sh\n",
    "#$ -l mem_free=5G,h_vmem=10G\n",
    "#$ -o /analyze_splicemutr/splice_analyze_BLCA.o\n",
    "#$ -e /analyze_splicemutr/splice_analyze_BLCA.e\n",
    "#$ -M tpalme15@jhmi.edu\n",
    "#$ -t 1-433 -tc 100\n",
    "\n",
    "echo $(date)\n",
    "\n",
    "module load conda\n",
    "source activate /users/tpalmer/miniconda3/envs/R-4.0.2\n",
    "\n",
    "CANCER=BLCA\n",
    "echo $CANCER $SGE_TASK_ID\n",
    "\n",
    "ROOT_DIR=/splicemutr_TCGA\n",
    "GENOTYPES=$ROOT_DIR/$CANCER/${CANCER}_genotypes_specific.txt\n",
    "SUMMARY_DIR=$ROOT_DIR/$CANCER/process_bindaff_out\n",
    "SPLICE_DAT_FILE=$ROOT_DIR/$CANCER/combine_splicemutr_out/data_splicemutr_all_pep_nov_corr.txt\n",
    "\n",
    "OUT_DIR=$ROOT_DIR/$CANCER/analyze_splicemutr_out\n",
    "SUMMARY_TYPE='IC50'\n",
    "SCRIPT_DIR=/users/tpalmer/splicemute/inst\n",
    "\n",
    "$SCRIPT_DIR/analyze_splicemutr.py -g $GENOTYPES -s $SUMMARY_DIR -d $SPLICE_DAT_FILE -o $OUT_DIR -t $SUMMARY_TYPE -n $SGE_TASK_ID\n",
    "\n",
    "echo $(date)\n",
    "\n",
    "\"\"\"\n"
   ]
  },
  {
   "cell_type": "markdown",
   "id": "ee55d831-2bd2-4656-9481-9769debd7a2b",
   "metadata": {},
   "source": [
    "# Calculating the splicing antigenicity"
   ]
  },
  {
   "cell_type": "markdown",
   "id": "2641c1f1-17cf-47a5-8f74-4974e873d489",
   "metadata": {},
   "source": [
    "## calc_gene_metric_len_norm.R usage"
   ]
  },
  {
   "cell_type": "code",
   "execution_count": null,
   "id": "2cbe1cb0-281f-467c-9d42-85896d47a93e",
   "metadata": {},
   "outputs": [],
   "source": [
    "\n",
    "\"\"\"\n",
    "\n",
    "# job submission params\n",
    "\n",
    "#!/bin/sh\n",
    "#$ -N calc_gene_metric\n",
    "#$ -S /bin/sh\n",
    "#$ -l mem_free=5G,h_vmem=10G\n",
    "#$ -o /calc_gene_metric/gene_calc.o\n",
    "#$ -e /calc_gene_metric/gene_calc.e\n",
    "#$ -M tpalme15@jhmi.edu\n",
    "#$ -t 1-81 -tc 81\n",
    "\n",
    "echo $(date)\n",
    "\n",
    "module load conda\n",
    "source activate /users/tpalmer/miniconda3/envs/R-4.0.2\n",
    "\n",
    "JUNC_EXPR_FILES=/splicemutr_TCGA/junc_expr_vst.txt\n",
    "JUNC_EXPR_FILE=$(sed -n ${SGE_TASK_ID}p $JUNC_EXPR_FILES)\n",
    "FILE=$(echo $(basename $JUNC_EXPR_FILE) | sed \"s/.rds//g\")\n",
    "CANCER_DIR_PRE=$(dirname $JUNC_EXPR_FILE)\n",
    "CANCER_DIR=$(dirname $CANCER_DIR_PRE)\n",
    "\n",
    "GENE_EXPR_FILE=$CANCER_DIR/gene_expression_vst.rds\n",
    "SPLICE_DAT_FILE=$CANCER_DIR/combine_splicemutr_out_cp/data_splicemutr_all_pep.rds\n",
    "KMER_COUNTS=$CANCER_DIR/kmer_counts/all_kmers.txt\n",
    "OUT_DIR=$CANCER_DIR/GENE_METRIC_CP\n",
    "\n",
    "if [[ ! -d $OUT_DIR ]]\n",
    "then\n",
    "        mkdir $OUT_DIR\n",
    "fi\n",
    "\n",
    "OUT_PREFIX=$OUT_DIR/$FILE\n",
    "SCRIPT_DIR=/splicemute/scripts\n",
    "\n",
    "$SCRIPT_DIR/calc_gene_metric_len_norm.R -g $GENE_EXPR_FILE -s $SPLICE_DAT_FILE -k $KMER_COUNTS -j $JUNC_EXPR_FILE -o $OUT_PREFIX\n",
    "\n",
    "echo $(date)\n",
    "\n",
    "\"\"\"\n"
   ]
  }
 ],
 "metadata": {
  "kernelspec": {
   "display_name": "Python 3 (ipykernel)",
   "language": "python",
   "name": "python3"
  },
  "language_info": {
   "codemirror_mode": {
    "name": "ipython",
    "version": 3
   },
   "file_extension": ".py",
   "mimetype": "text/x-python",
   "name": "python",
   "nbconvert_exporter": "python",
   "pygments_lexer": "ipython3",
   "version": "3.11.3"
  }
 },
 "nbformat": 4,
 "nbformat_minor": 5
}
